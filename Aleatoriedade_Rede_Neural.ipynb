{
  "nbformat": 4,
  "nbformat_minor": 0,
  "metadata": {
    "colab": {
      "name": "Aleatoriedade Rede Neural.ipynb",
      "provenance": [],
      "authorship_tag": "ABX9TyPW4AqLOl9Jstp3p5GqgmM5",
      "include_colab_link": true
    },
    "kernelspec": {
      "name": "python3",
      "display_name": "Python 3"
    }
  },
  "cells": [
    {
      "cell_type": "markdown",
      "metadata": {
        "id": "view-in-github",
        "colab_type": "text"
      },
      "source": [
        "<a href=\"https://colab.research.google.com/github/htsnet/automacao-de-negocios/blob/master/Aleatoriedade_Rede_Neural.ipynb\" target=\"_parent\"><img src=\"https://colab.research.google.com/assets/colab-badge.svg\" alt=\"Open In Colab\"/></a>"
      ]
    },
    {
      "cell_type": "markdown",
      "metadata": {
        "id": "Z9udFnrvAN6h",
        "colab_type": "text"
      },
      "source": [
        "# Um exemplo de aleatoriedade na geração de modelo de rede neural\n",
        "\n",
        "Este notebook mostra como a rede neural trabalha com o conceito de aleatoriedade. A cada execução do notebook haverá uma variação no resultado do modelo e predição.\n",
        "\n",
        "A lógica do problema é:\n",
        "- Um arquivo de base contendo 9 elementos como um único atributo, iniciando em 0 e indo até 0.8 (passo 0.1)\n",
        "- O campo de target com o valor do atributo + 0.1\n",
        "\n",
        "A predição tem falhas propositais. A modelagem com apenas 100 épocas não tem uma eficiência adequada."
      ]
    },
    {
      "cell_type": "code",
      "metadata": {
        "id": "shMszAQT7H9E",
        "colab_type": "code",
        "colab": {
          "base_uri": "https://localhost:8080/",
          "height": 34
        },
        "outputId": "247c109b-aabb-4292-fe29-b7f3c286a86c"
      },
      "source": [
        "from pandas import DataFrame\n",
        "from pandas import concat\n",
        "from keras.models import Sequential\n",
        "from keras.layers import Dense\n",
        "from sklearn.metrics import mean_squared_error"
      ],
      "execution_count": 1,
      "outputs": [
        {
          "output_type": "stream",
          "text": [
            "Using TensorFlow backend.\n"
          ],
          "name": "stderr"
        }
      ]
    },
    {
      "cell_type": "code",
      "metadata": {
        "id": "9gFts4lb8B1w",
        "colab_type": "code",
        "colab": {}
      },
      "source": [
        "#define função do modelo\n",
        "def fit_model(X, y):\n",
        "  # define a rede neural\n",
        "  model = Sequential()\n",
        "  model.add(Dense(10, input_dim=1))\n",
        "  model.add(Dense(1))\n",
        "  model.compile(loss='mean_squared_error',\n",
        "                optimizer='adam')\n",
        "  \n",
        "  # executa o ajuste ao modelo\n",
        "  model.fit(X, y, epochs=100, batch_size=len(X), verbose=0)\n",
        "\n",
        "  #previsão\n",
        "  forecast = model.predict(X, verbose=0)\n",
        "  print('Valores previstos:')\n",
        "  for i in range(0, len(forecast)):\n",
        "    print('{:.1f}'.format(forecast[i][0]))\n",
        "  print('Taxa de erro:', mean_squared_error(y, forecast[:,0]))\n",
        "  print('\\n')"
      ],
      "execution_count": 26,
      "outputs": []
    },
    {
      "cell_type": "code",
      "metadata": {
        "id": "e0_N7lkr9A5p",
        "colab_type": "code",
        "colab": {}
      },
      "source": [
        "#cria uma sequência de números\n",
        "length = 10\n",
        "sequence = [i/float(length) for i in range(length)]\n",
        "print(sequence)"
      ],
      "execution_count": null,
      "outputs": []
    },
    {
      "cell_type": "code",
      "metadata": {
        "id": "Ov9CiG7e9m73",
        "colab_type": "code",
        "colab": {}
      },
      "source": [
        "#cria o Dataframe\n",
        "df = DataFrame(sequence)\n",
        "df = concat([df.shift(1), df], axis=1)\n",
        "df.head(15)"
      ],
      "execution_count": null,
      "outputs": []
    },
    {
      "cell_type": "code",
      "metadata": {
        "id": "nyyIHoUK9-XH",
        "colab_type": "code",
        "colab": {}
      },
      "source": [
        "#remove valores nulos\n",
        "df.dropna(inplace=True)\n",
        "df.head(10)"
      ],
      "execution_count": null,
      "outputs": []
    },
    {
      "cell_type": "code",
      "metadata": {
        "id": "uRRjW_s9-GNX",
        "colab_type": "code",
        "colab": {}
      },
      "source": [
        "#converte para um formato mais adequado ao MLP\n",
        "values = df.values\n",
        "values"
      ],
      "execution_count": null,
      "outputs": []
    },
    {
      "cell_type": "code",
      "metadata": {
        "id": "bKVY8h2T-Y2X",
        "colab_type": "code",
        "colab": {}
      },
      "source": [
        "#separa atributo e target\n",
        "X, y = values[:,0], values[:,1]\n",
        "print(X)\n",
        "print(y)"
      ],
      "execution_count": null,
      "outputs": []
    },
    {
      "cell_type": "code",
      "metadata": {
        "id": "CjfYK1fA-rgf",
        "colab_type": "code",
        "colab": {
          "base_uri": "https://localhost:8080/",
          "height": 1000
        },
        "outputId": "463534ee-decc-42b7-da1d-e670245eaccc"
      },
      "source": [
        "#repete o modelo x vezes\n",
        "repeats = 10\n",
        "for _ in range(repeats):\n",
        "  fit_model(X, y)"
      ],
      "execution_count": 27,
      "outputs": [
        {
          "output_type": "stream",
          "text": [
            "Valores previstos:\n",
            "0.4\n",
            "0.3\n",
            "0.3\n",
            "0.3\n",
            "0.3\n",
            "0.3\n",
            "0.3\n",
            "0.3\n",
            "0.3\n",
            "Taxa de erro: 0.12254114143871882\n",
            "\n",
            "\n",
            "Valores previstos:\n",
            "0.4\n",
            "0.3\n",
            "0.3\n",
            "0.2\n",
            "0.2\n",
            "0.1\n",
            "0.0\n",
            "-0.0\n",
            "-0.1\n",
            "Taxa de erro: 0.2903792708169567\n",
            "\n",
            "\n",
            "Valores previstos:\n",
            "0.2\n",
            "0.2\n",
            "0.3\n",
            "0.4\n",
            "0.5\n",
            "0.6\n",
            "0.7\n",
            "0.8\n",
            "0.9\n",
            "Taxa de erro: 0.0010885949859936567\n",
            "\n",
            "\n",
            "Valores previstos:\n",
            "0.2\n",
            "0.3\n",
            "0.4\n",
            "0.4\n",
            "0.5\n",
            "0.6\n",
            "0.7\n",
            "0.8\n",
            "0.8\n",
            "Taxa de erro: 0.0028302814021631435\n",
            "\n",
            "\n",
            "Valores previstos:\n",
            "0.3\n",
            "0.3\n",
            "0.4\n",
            "0.4\n",
            "0.5\n",
            "0.5\n",
            "0.6\n",
            "0.6\n",
            "0.7\n",
            "Taxa de erro: 0.017464238308535426\n",
            "\n",
            "\n",
            "Valores previstos:\n",
            "0.3\n",
            "0.4\n",
            "0.4\n",
            "0.5\n",
            "0.5\n",
            "0.6\n",
            "0.6\n",
            "0.7\n",
            "0.7\n",
            "Taxa de erro: 0.016339831960120066\n",
            "\n",
            "\n",
            "Valores previstos:\n",
            "0.4\n",
            "0.4\n",
            "0.4\n",
            "0.4\n",
            "0.4\n",
            "0.4\n",
            "0.4\n",
            "0.5\n",
            "0.5\n",
            "Taxa de erro: 0.056997763443668886\n",
            "\n",
            "\n",
            "Valores previstos:\n",
            "0.4\n",
            "0.4\n",
            "0.4\n",
            "0.4\n",
            "0.5\n",
            "0.5\n",
            "0.5\n",
            "0.5\n",
            "0.6\n",
            "Taxa de erro: 0.03780947727904901\n",
            "\n",
            "\n",
            "Valores previstos:\n",
            "0.5\n",
            "0.4\n",
            "0.3\n",
            "0.3\n",
            "0.2\n",
            "0.1\n",
            "0.1\n",
            "-0.0\n",
            "-0.1\n",
            "Taxa de erro: 0.2796070754063339\n",
            "\n",
            "\n",
            "Valores previstos:\n",
            "0.2\n",
            "0.3\n",
            "0.4\n",
            "0.4\n",
            "0.5\n",
            "0.6\n",
            "0.7\n",
            "0.8\n",
            "0.8\n",
            "Taxa de erro: 0.002782752521143772\n",
            "\n",
            "\n"
          ],
          "name": "stdout"
        }
      ]
    },
    {
      "cell_type": "code",
      "metadata": {
        "id": "qwUm46nA-zxf",
        "colab_type": "code",
        "colab": {}
      },
      "source": [
        ""
      ],
      "execution_count": null,
      "outputs": []
    }
  ]
}