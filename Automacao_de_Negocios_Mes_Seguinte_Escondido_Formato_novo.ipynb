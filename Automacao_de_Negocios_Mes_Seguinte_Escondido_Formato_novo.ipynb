{
  "nbformat": 4,
  "nbformat_minor": 0,
  "metadata": {
    "colab": {
      "name": "Automacao de Negocios - Mes Seguinte Escondido - Formato novo",
      "provenance": [],
      "collapsed_sections": [],
      "toc_visible": true,
      "authorship_tag": "ABX9TyPrUPHEaiOYwxKXVun6MTJJ",
      "include_colab_link": true
    },
    "kernelspec": {
      "name": "python3",
      "display_name": "Python 3"
    }
  },
  "cells": [
    {
      "cell_type": "markdown",
      "metadata": {
        "id": "view-in-github",
        "colab_type": "text"
      },
      "source": [
        "<a href=\"https://colab.research.google.com/github/htsnet/automacao-de-negocios/blob/master/Automacao_de_Negocios_Mes_Seguinte_Escondido_Formato_novo.ipynb\" target=\"_parent\"><img src=\"https://colab.research.google.com/assets/colab-badge.svg\" alt=\"Open In Colab\"/></a>"
      ]
    },
    {
      "cell_type": "markdown",
      "metadata": {
        "id": "0XIrIoBwb1NN",
        "colab_type": "text"
      },
      "source": [
        "#Uma variação do notebook original, sem split e uso do mês seguinte como validador"
      ]
    },
    {
      "cell_type": "markdown",
      "metadata": {
        "id": "esQEmXvQUDAO",
        "colab_type": "text"
      },
      "source": [
        "# Início: Importação as bibliotecas e Arquivo\n",
        "É preciso carregar um arquivo CSV com o padrão definido para execução do notebook"
      ]
    },
    {
      "cell_type": "code",
      "metadata": {
        "id": "60MYovA_7su6",
        "colab_type": "code",
        "colab": {
          "base_uri": "https://localhost:8080/",
          "height": 88
        },
        "outputId": "79d456ff-0208-4384-8099-d32d34211800"
      },
      "source": [
        "import pandas as pd\n",
        "import numpy as np\n",
        "from sklearn.ensemble import ExtraTreesClassifier, RandomForestClassifier, GradientBoostingClassifier, AdaBoostClassifier\n",
        "from matplotlib import pyplot as plt\n",
        "from sklearn.metrics import roc_auc_score\n",
        "from sklearn.model_selection import train_test_split, cross_val_score, GridSearchCV\n",
        "from sklearn.ensemble import RandomForestRegressor\n",
        "from sklearn.metrics import mean_absolute_error\n",
        "from matplotlib.pyplot import figure\n",
        "import datetime\n",
        "import pickle\n",
        "from sklearn.metrics import confusion_matrix, accuracy_score, roc_curve, auc\n",
        "import seaborn as sns\n",
        "# TensorFlow e tf.keras\n",
        "import tensorflow as tf\n",
        "from tensorflow import keras\n",
        "from keras.models import Sequential\n",
        "from keras.layers import Dense"
      ],
      "execution_count": 1,
      "outputs": [
        {
          "output_type": "stream",
          "text": [
            "/usr/local/lib/python3.6/dist-packages/statsmodels/tools/_testing.py:19: FutureWarning: pandas.util.testing is deprecated. Use the functions in the public API at pandas.testing instead.\n",
            "  import pandas.util.testing as tm\n",
            "Using TensorFlow backend.\n"
          ],
          "name": "stderr"
        }
      ]
    },
    {
      "cell_type": "code",
      "metadata": {
        "id": "9lrF2JfV8RVC",
        "colab_type": "code",
        "colab": {}
      },
      "source": [
        "#carrega a tabela de dados\n",
        "#separador de campos = ;\n",
        "#ponto decimal = ,\n",
        "historic = pd.read_csv(\"/content/DOL_C_1M_14x8.csv\", sep=\";\", decimal=\",\")"
      ],
      "execution_count": 2,
      "outputs": []
    },
    {
      "cell_type": "code",
      "metadata": {
        "id": "bSeb5skcepaY",
        "colab_type": "code",
        "colab": {
          "base_uri": "https://localhost:8080/",
          "height": 253
        },
        "outputId": "6764329d-3e98-4fcb-c32f-b5b92a7dd1d4"
      },
      "source": [
        "#converte o campo data (string) em formato de data\n",
        "historic['DataFormatada'] = pd.to_datetime(historic['Data'], format='%d/%m/%Y')\n",
        "historic.head()"
      ],
      "execution_count": 3,
      "outputs": [
        {
          "output_type": "execute_result",
          "data": {
            "text/html": [
              "<div>\n",
              "<style scoped>\n",
              "    .dataframe tbody tr th:only-of-type {\n",
              "        vertical-align: middle;\n",
              "    }\n",
              "\n",
              "    .dataframe tbody tr th {\n",
              "        vertical-align: top;\n",
              "    }\n",
              "\n",
              "    .dataframe thead th {\n",
              "        text-align: right;\n",
              "    }\n",
              "</style>\n",
              "<table border=\"1\" class=\"dataframe\">\n",
              "  <thead>\n",
              "    <tr style=\"text-align: right;\">\n",
              "      <th></th>\n",
              "      <th>CodOp</th>\n",
              "      <th>Hora_Entrada</th>\n",
              "      <th>Hora_Saida</th>\n",
              "      <th>tempo</th>\n",
              "      <th>Data</th>\n",
              "      <th>Pentrada</th>\n",
              "      <th>Psaida</th>\n",
              "      <th>Entrada</th>\n",
              "      <th>Saida</th>\n",
              "      <th>Ganhos</th>\n",
              "      <th>Perdas</th>\n",
              "      <th>Evol</th>\n",
              "      <th>Resultado</th>\n",
              "      <th>Saldo_dia</th>\n",
              "      <th>Ganho_Trade</th>\n",
              "      <th>MÊS</th>\n",
              "      <th>Max_Aberto</th>\n",
              "      <th>K_entra</th>\n",
              "      <th>K_Saida</th>\n",
              "      <th>DIR</th>\n",
              "      <th>VOL_Acum</th>\n",
              "      <th>AGRE_Acum</th>\n",
              "      <th>DistZero</th>\n",
              "      <th>K_ENTRA_CdDelta_T01</th>\n",
              "      <th>CdDelta_T05</th>\n",
              "      <th>CdDelta_T010</th>\n",
              "      <th>CdDelta_T015</th>\n",
              "      <th>CdDelta_T020</th>\n",
              "      <th>CdDelta_T030</th>\n",
              "      <th>VolTot_1Min</th>\n",
              "      <th>VolTot_5Min</th>\n",
              "      <th>VolTot_10Min</th>\n",
              "      <th>VolTot_15Min</th>\n",
              "      <th>Vol_Delta_01m</th>\n",
              "      <th>Vol_Delta_05m</th>\n",
              "      <th>Vol_Delta_10m</th>\n",
              "      <th>Vol_Delta_15m</th>\n",
              "      <th>Num_Agre_01</th>\n",
              "      <th>Num_Agre_05</th>\n",
              "      <th>Num_Agre_10</th>\n",
              "      <th>...</th>\n",
              "      <th>SALDO_ITAU</th>\n",
              "      <th>SALDO_SANTANDER</th>\n",
              "      <th>Final_LUCRO_UBS</th>\n",
              "      <th>Final_LUCRO_IDEAL</th>\n",
              "      <th>Final_LUCRO_BTG</th>\n",
              "      <th>Final_LUCRO_JP_MORGAN</th>\n",
              "      <th>Final_LUCRO_GENIAL</th>\n",
              "      <th>Final_LUCRO_XP</th>\n",
              "      <th>Final_LUCRO_TULLETT</th>\n",
              "      <th>Final_LUCRO_BRADESCO</th>\n",
              "      <th>Final_LUCRO_ITAU</th>\n",
              "      <th>Final_LUCRO_SANTANDER</th>\n",
              "      <th>CD_Ang_Reta_Preco_5</th>\n",
              "      <th>CD_Correl_Reta_Preco_5</th>\n",
              "      <th>CD_Ang_Reta_Preco_10</th>\n",
              "      <th>CD_Correl_Reta_Preco_10</th>\n",
              "      <th>CD_Ang_Reta_Preco_15</th>\n",
              "      <th>CD_Correl_Reta_Preco_15</th>\n",
              "      <th>CD_Ang_Reta_Preco_30</th>\n",
              "      <th>CD_Correl_Reta_Preco_30</th>\n",
              "      <th>CD_Ang_Reta_Agre_5</th>\n",
              "      <th>CD_Correl_Reta_Agre_5</th>\n",
              "      <th>CD_Ang_Reta_Agre_10</th>\n",
              "      <th>CD_Correl_Reta_Agre_10</th>\n",
              "      <th>CD_Ang_Reta_Agre_15</th>\n",
              "      <th>CD_Correl_Reta_Agre_15</th>\n",
              "      <th>CD_Ang_Reta_Agre_30</th>\n",
              "      <th>CD_Correl_Reta_Agre_30</th>\n",
              "      <th>CDAgredia</th>\n",
              "      <th>IFR14_01</th>\n",
              "      <th>IFR14_05</th>\n",
              "      <th>IFR14_10</th>\n",
              "      <th>IFR21_01</th>\n",
              "      <th>IFR21_05</th>\n",
              "      <th>IFR21_10</th>\n",
              "      <th>Ampli_01</th>\n",
              "      <th>Ampli_05</th>\n",
              "      <th>MEP_Trade</th>\n",
              "      <th>MEN_Trade</th>\n",
              "      <th>DataFormatada</th>\n",
              "    </tr>\n",
              "  </thead>\n",
              "  <tbody>\n",
              "    <tr>\n",
              "      <th>0</th>\n",
              "      <td>1</td>\n",
              "      <td>09:15:01</td>\n",
              "      <td>09:23:15</td>\n",
              "      <td>00:08:14</td>\n",
              "      <td>02/01/2019</td>\n",
              "      <td>3.894,50</td>\n",
              "      <td>3.886,50</td>\n",
              "      <td>774</td>\n",
              "      <td>1033</td>\n",
              "      <td>0.0</td>\n",
              "      <td>8.0</td>\n",
              "      <td>-8.0</td>\n",
              "      <td>False</td>\n",
              "      <td>0.0</td>\n",
              "      <td>-8.0</td>\n",
              "      <td>1</td>\n",
              "      <td>0</td>\n",
              "      <td>15</td>\n",
              "      <td>25</td>\n",
              "      <td>C</td>\n",
              "      <td>12800</td>\n",
              "      <td>-200</td>\n",
              "      <td>6.5</td>\n",
              "      <td>15</td>\n",
              "      <td>3</td>\n",
              "      <td>1</td>\n",
              "      <td>1</td>\n",
              "      <td>0</td>\n",
              "      <td>0</td>\n",
              "      <td>790</td>\n",
              "      <td>790</td>\n",
              "      <td>890</td>\n",
              "      <td>790</td>\n",
              "      <td>200</td>\n",
              "      <td>2800</td>\n",
              "      <td>9000</td>\n",
              "      <td>11700</td>\n",
              "      <td>28</td>\n",
              "      <td>44</td>\n",
              "      <td>55.5</td>\n",
              "      <td>...</td>\n",
              "      <td>400.0</td>\n",
              "      <td>0.0</td>\n",
              "      <td>2000.0</td>\n",
              "      <td>0.0</td>\n",
              "      <td>2000.0</td>\n",
              "      <td>-2000.0</td>\n",
              "      <td>0.0</td>\n",
              "      <td>0.0</td>\n",
              "      <td>2000.0</td>\n",
              "      <td>0.0</td>\n",
              "      <td>0.0</td>\n",
              "      <td>0.0</td>\n",
              "      <td>54.0</td>\n",
              "      <td>0.44</td>\n",
              "      <td>4.0</td>\n",
              "      <td>0.04</td>\n",
              "      <td>-20.0</td>\n",
              "      <td>-0.20</td>\n",
              "      <td>0.0</td>\n",
              "      <td>0.0</td>\n",
              "      <td>42.0</td>\n",
              "      <td>0.74</td>\n",
              "      <td>10.0</td>\n",
              "      <td>0.36</td>\n",
              "      <td>-20.0</td>\n",
              "      <td>-0.60</td>\n",
              "      <td>0.0</td>\n",
              "      <td>0.0</td>\n",
              "      <td>-300.0</td>\n",
              "      <td>56.0</td>\n",
              "      <td>56.0</td>\n",
              "      <td>56.0</td>\n",
              "      <td>55.0</td>\n",
              "      <td>54.0</td>\n",
              "      <td>54.0</td>\n",
              "      <td>4.5</td>\n",
              "      <td>9.5</td>\n",
              "      <td>1.0</td>\n",
              "      <td>-8.0</td>\n",
              "      <td>2019-01-02</td>\n",
              "    </tr>\n",
              "    <tr>\n",
              "      <th>1</th>\n",
              "      <td>2</td>\n",
              "      <td>09:16:03</td>\n",
              "      <td>09:23:15</td>\n",
              "      <td>00:07:12</td>\n",
              "      <td>02/01/2019</td>\n",
              "      <td>3.894,50</td>\n",
              "      <td>3.886,50</td>\n",
              "      <td>817</td>\n",
              "      <td>1033</td>\n",
              "      <td>0.0</td>\n",
              "      <td>8.0</td>\n",
              "      <td>-16.0</td>\n",
              "      <td>False</td>\n",
              "      <td>0.0</td>\n",
              "      <td>-8.0</td>\n",
              "      <td>1</td>\n",
              "      <td>0</td>\n",
              "      <td>15</td>\n",
              "      <td>25</td>\n",
              "      <td>C</td>\n",
              "      <td>12800</td>\n",
              "      <td>-400</td>\n",
              "      <td>4.5</td>\n",
              "      <td>15</td>\n",
              "      <td>3</td>\n",
              "      <td>1</td>\n",
              "      <td>1</td>\n",
              "      <td>0</td>\n",
              "      <td>0</td>\n",
              "      <td>750</td>\n",
              "      <td>790</td>\n",
              "      <td>890</td>\n",
              "      <td>790</td>\n",
              "      <td>240</td>\n",
              "      <td>2800</td>\n",
              "      <td>9000</td>\n",
              "      <td>11700</td>\n",
              "      <td>40</td>\n",
              "      <td>44</td>\n",
              "      <td>55.5</td>\n",
              "      <td>...</td>\n",
              "      <td>400.0</td>\n",
              "      <td>0.0</td>\n",
              "      <td>2000.0</td>\n",
              "      <td>0.0</td>\n",
              "      <td>2000.0</td>\n",
              "      <td>-2000.0</td>\n",
              "      <td>0.0</td>\n",
              "      <td>0.0</td>\n",
              "      <td>2000.0</td>\n",
              "      <td>0.0</td>\n",
              "      <td>0.0</td>\n",
              "      <td>0.0</td>\n",
              "      <td>-42.0</td>\n",
              "      <td>-0.50</td>\n",
              "      <td>2.0</td>\n",
              "      <td>0.04</td>\n",
              "      <td>-44.0</td>\n",
              "      <td>-0.56</td>\n",
              "      <td>0.0</td>\n",
              "      <td>0.0</td>\n",
              "      <td>-10.0</td>\n",
              "      <td>-0.32</td>\n",
              "      <td>14.0</td>\n",
              "      <td>0.52</td>\n",
              "      <td>-16.0</td>\n",
              "      <td>-0.50</td>\n",
              "      <td>0.0</td>\n",
              "      <td>0.0</td>\n",
              "      <td>-420.0</td>\n",
              "      <td>42.0</td>\n",
              "      <td>54.0</td>\n",
              "      <td>54.0</td>\n",
              "      <td>56.0</td>\n",
              "      <td>53.0</td>\n",
              "      <td>53.0</td>\n",
              "      <td>3.8</td>\n",
              "      <td>9.5</td>\n",
              "      <td>1.0</td>\n",
              "      <td>-8.0</td>\n",
              "      <td>2019-01-02</td>\n",
              "    </tr>\n",
              "    <tr>\n",
              "      <th>2</th>\n",
              "      <td>3</td>\n",
              "      <td>09:17:05</td>\n",
              "      <td>09:23:14</td>\n",
              "      <td>00:06:10</td>\n",
              "      <td>02/01/2019</td>\n",
              "      <td>3.895,00</td>\n",
              "      <td>3.887,00</td>\n",
              "      <td>853</td>\n",
              "      <td>1027</td>\n",
              "      <td>0.0</td>\n",
              "      <td>8.0</td>\n",
              "      <td>-24.0</td>\n",
              "      <td>False</td>\n",
              "      <td>0.0</td>\n",
              "      <td>-8.0</td>\n",
              "      <td>1</td>\n",
              "      <td>0</td>\n",
              "      <td>15</td>\n",
              "      <td>25</td>\n",
              "      <td>C</td>\n",
              "      <td>12800</td>\n",
              "      <td>-400</td>\n",
              "      <td>6.0</td>\n",
              "      <td>15</td>\n",
              "      <td>3</td>\n",
              "      <td>1</td>\n",
              "      <td>1</td>\n",
              "      <td>0</td>\n",
              "      <td>0</td>\n",
              "      <td>720</td>\n",
              "      <td>790</td>\n",
              "      <td>890</td>\n",
              "      <td>790</td>\n",
              "      <td>240</td>\n",
              "      <td>2800</td>\n",
              "      <td>9000</td>\n",
              "      <td>11700</td>\n",
              "      <td>40</td>\n",
              "      <td>44</td>\n",
              "      <td>55.5</td>\n",
              "      <td>...</td>\n",
              "      <td>400.0</td>\n",
              "      <td>0.0</td>\n",
              "      <td>2000.0</td>\n",
              "      <td>0.0</td>\n",
              "      <td>2000.0</td>\n",
              "      <td>-2000.0</td>\n",
              "      <td>0.0</td>\n",
              "      <td>0.0</td>\n",
              "      <td>2000.0</td>\n",
              "      <td>0.0</td>\n",
              "      <td>0.0</td>\n",
              "      <td>0.0</td>\n",
              "      <td>-54.0</td>\n",
              "      <td>-0.72</td>\n",
              "      <td>2.0</td>\n",
              "      <td>0.02</td>\n",
              "      <td>-38.0</td>\n",
              "      <td>-0.48</td>\n",
              "      <td>0.0</td>\n",
              "      <td>0.0</td>\n",
              "      <td>-32.0</td>\n",
              "      <td>-0.98</td>\n",
              "      <td>12.0</td>\n",
              "      <td>0.42</td>\n",
              "      <td>-12.0</td>\n",
              "      <td>-0.42</td>\n",
              "      <td>0.0</td>\n",
              "      <td>0.0</td>\n",
              "      <td>-445.0</td>\n",
              "      <td>42.0</td>\n",
              "      <td>41.0</td>\n",
              "      <td>41.0</td>\n",
              "      <td>55.0</td>\n",
              "      <td>44.0</td>\n",
              "      <td>44.0</td>\n",
              "      <td>3.5</td>\n",
              "      <td>9.5</td>\n",
              "      <td>1.0</td>\n",
              "      <td>-8.0</td>\n",
              "      <td>2019-01-02</td>\n",
              "    </tr>\n",
              "    <tr>\n",
              "      <th>3</th>\n",
              "      <td>4</td>\n",
              "      <td>09:18:13</td>\n",
              "      <td>09:23:53</td>\n",
              "      <td>00:05:40</td>\n",
              "      <td>02/01/2019</td>\n",
              "      <td>3.891,00</td>\n",
              "      <td>3.883,00</td>\n",
              "      <td>889</td>\n",
              "      <td>1085</td>\n",
              "      <td>0.0</td>\n",
              "      <td>8.0</td>\n",
              "      <td>-32.0</td>\n",
              "      <td>False</td>\n",
              "      <td>0.0</td>\n",
              "      <td>-8.0</td>\n",
              "      <td>1</td>\n",
              "      <td>0</td>\n",
              "      <td>20</td>\n",
              "      <td>25</td>\n",
              "      <td>C</td>\n",
              "      <td>12800</td>\n",
              "      <td>-600</td>\n",
              "      <td>3.0</td>\n",
              "      <td>20</td>\n",
              "      <td>3</td>\n",
              "      <td>1</td>\n",
              "      <td>1</td>\n",
              "      <td>0</td>\n",
              "      <td>0</td>\n",
              "      <td>700</td>\n",
              "      <td>790</td>\n",
              "      <td>890</td>\n",
              "      <td>790</td>\n",
              "      <td>280</td>\n",
              "      <td>2800</td>\n",
              "      <td>9000</td>\n",
              "      <td>11700</td>\n",
              "      <td>32</td>\n",
              "      <td>44</td>\n",
              "      <td>55.5</td>\n",
              "      <td>...</td>\n",
              "      <td>400.0</td>\n",
              "      <td>0.0</td>\n",
              "      <td>2000.0</td>\n",
              "      <td>0.0</td>\n",
              "      <td>2000.0</td>\n",
              "      <td>-2000.0</td>\n",
              "      <td>0.0</td>\n",
              "      <td>0.0</td>\n",
              "      <td>2000.0</td>\n",
              "      <td>0.0</td>\n",
              "      <td>0.0</td>\n",
              "      <td>0.0</td>\n",
              "      <td>-50.0</td>\n",
              "      <td>-0.72</td>\n",
              "      <td>-18.0</td>\n",
              "      <td>-0.20</td>\n",
              "      <td>-38.0</td>\n",
              "      <td>-0.48</td>\n",
              "      <td>0.0</td>\n",
              "      <td>0.0</td>\n",
              "      <td>-36.0</td>\n",
              "      <td>-0.98</td>\n",
              "      <td>2.0</td>\n",
              "      <td>0.04</td>\n",
              "      <td>-14.0</td>\n",
              "      <td>-0.46</td>\n",
              "      <td>0.0</td>\n",
              "      <td>0.0</td>\n",
              "      <td>-570.0</td>\n",
              "      <td>34.0</td>\n",
              "      <td>44.0</td>\n",
              "      <td>44.0</td>\n",
              "      <td>53.0</td>\n",
              "      <td>46.0</td>\n",
              "      <td>46.0</td>\n",
              "      <td>3.3</td>\n",
              "      <td>9.5</td>\n",
              "      <td>0.0</td>\n",
              "      <td>-8.0</td>\n",
              "      <td>2019-01-02</td>\n",
              "    </tr>\n",
              "    <tr>\n",
              "      <th>4</th>\n",
              "      <td>5</td>\n",
              "      <td>09:19:19</td>\n",
              "      <td>09:39:49</td>\n",
              "      <td>00:20:31</td>\n",
              "      <td>02/01/2019</td>\n",
              "      <td>3.889,00</td>\n",
              "      <td>3.881,00</td>\n",
              "      <td>946</td>\n",
              "      <td>1499</td>\n",
              "      <td>0.0</td>\n",
              "      <td>8.0</td>\n",
              "      <td>-40.0</td>\n",
              "      <td>False</td>\n",
              "      <td>0.0</td>\n",
              "      <td>-8.0</td>\n",
              "      <td>1</td>\n",
              "      <td>0</td>\n",
              "      <td>20</td>\n",
              "      <td>40</td>\n",
              "      <td>C</td>\n",
              "      <td>12800</td>\n",
              "      <td>-800</td>\n",
              "      <td>0.5</td>\n",
              "      <td>20</td>\n",
              "      <td>3</td>\n",
              "      <td>1</td>\n",
              "      <td>1</td>\n",
              "      <td>0</td>\n",
              "      <td>0</td>\n",
              "      <td>680</td>\n",
              "      <td>790</td>\n",
              "      <td>890</td>\n",
              "      <td>790</td>\n",
              "      <td>440</td>\n",
              "      <td>2800</td>\n",
              "      <td>9000</td>\n",
              "      <td>11700</td>\n",
              "      <td>46</td>\n",
              "      <td>44</td>\n",
              "      <td>55.5</td>\n",
              "      <td>...</td>\n",
              "      <td>400.0</td>\n",
              "      <td>0.0</td>\n",
              "      <td>2000.0</td>\n",
              "      <td>0.0</td>\n",
              "      <td>2000.0</td>\n",
              "      <td>-2000.0</td>\n",
              "      <td>0.0</td>\n",
              "      <td>-2000.0</td>\n",
              "      <td>2000.0</td>\n",
              "      <td>2000.0</td>\n",
              "      <td>0.0</td>\n",
              "      <td>0.0</td>\n",
              "      <td>-68.0</td>\n",
              "      <td>-0.82</td>\n",
              "      <td>-34.0</td>\n",
              "      <td>-0.34</td>\n",
              "      <td>-36.0</td>\n",
              "      <td>-0.48</td>\n",
              "      <td>0.0</td>\n",
              "      <td>0.0</td>\n",
              "      <td>-52.0</td>\n",
              "      <td>-0.94</td>\n",
              "      <td>-12.0</td>\n",
              "      <td>-0.30</td>\n",
              "      <td>-12.0</td>\n",
              "      <td>-0.44</td>\n",
              "      <td>0.0</td>\n",
              "      <td>0.0</td>\n",
              "      <td>-855.0</td>\n",
              "      <td>36.0</td>\n",
              "      <td>39.0</td>\n",
              "      <td>39.0</td>\n",
              "      <td>50.0</td>\n",
              "      <td>43.0</td>\n",
              "      <td>43.0</td>\n",
              "      <td>3.2</td>\n",
              "      <td>9.5</td>\n",
              "      <td>0.0</td>\n",
              "      <td>-8.0</td>\n",
              "      <td>2019-01-02</td>\n",
              "    </tr>\n",
              "  </tbody>\n",
              "</table>\n",
              "<p>5 rows × 137 columns</p>\n",
              "</div>"
            ],
            "text/plain": [
              "   CodOp Hora_Entrada Hora_Saida  ... MEP_Trade MEN_Trade DataFormatada\n",
              "0      1     09:15:01   09:23:15  ...       1.0      -8.0    2019-01-02\n",
              "1      2     09:16:03   09:23:15  ...       1.0      -8.0    2019-01-02\n",
              "2      3     09:17:05   09:23:14  ...       1.0      -8.0    2019-01-02\n",
              "3      4     09:18:13   09:23:53  ...       0.0      -8.0    2019-01-02\n",
              "4      5     09:19:19   09:39:49  ...       0.0      -8.0    2019-01-02\n",
              "\n",
              "[5 rows x 137 columns]"
            ]
          },
          "metadata": {
            "tags": []
          },
          "execution_count": 3
        }
      ]
    },
    {
      "cell_type": "code",
      "metadata": {
        "id": "Y0NU0d09etBP",
        "colab_type": "code",
        "colab": {}
      },
      "source": [
        "#separa um mês em cada  dataframe e faz todas as operações de preparação do daframe criado\n",
        "variables = locals()\n",
        "for i in range(1,13):\n",
        "  mes = str(i).zfill(2)\n",
        "  variables[\"mes{0}\".format(mes)] = historic[historic['DataFormatada'].dt.month == i]\n",
        "  #separa o target e o código da operação\n",
        "  variables[\"target{0}\".format(mes)] = variables[\"mes{0}\".format(mes)][['CodOp', 'Resultado']].copy()\n",
        "  #indica o campo CodOp como índice nos 2 dataframes (para conferência futura)\n",
        "  variables[\"mes{0}\".format(mes)] = variables[\"mes{0}\".format(mes)].set_index('CodOp')\n",
        "  variables[\"target{0}\".format(mes)] = variables[\"target{0}\".format(mes)].set_index('CodOp')\n",
        "  #apaga o campo target do dataframe original e outros campos já definidos como não necessários\n",
        "  variables[\"mes{0}\".format(mes)] = variables[\"mes{0}\".format(mes)].drop(['Resultado', 'Hora_Entrada', 'Hora_Saida',\n",
        "                                                                          'tempo', 'Data', 'Pentrada', 'Psaida', 'Ganhos',\n",
        "                                                                          'Perdas', 'Evol', 'Saldo_dia', 'Ganho_Trade', 'MÊS', 'Max_Aberto', 'K_entra', 'K_Saida', 'DIR', 'DataFormatada'], axis=1)"
      ],
      "execution_count": 4,
      "outputs": []
    },
    {
      "cell_type": "markdown",
      "metadata": {
        "id": "I8F3MP9kEwiM",
        "colab_type": "text"
      },
      "source": [
        "# Criando um arquivo separado com base no mês para teste"
      ]
    },
    {
      "cell_type": "code",
      "metadata": {
        "id": "viwaY_ZVcXyl",
        "colab_type": "code",
        "colab": {}
      },
      "source": [
        "#escolhas dos meses para tratar\n",
        "mesesTreino = ['01', '02', '03', '04', '05', '06', '07', '08', '09', '10', '11'] #train\n",
        "mesValidacao = '12' #test"
      ],
      "execution_count": 5,
      "outputs": []
    },
    {
      "cell_type": "code",
      "metadata": {
        "id": "U267JxQ7co9i",
        "colab_type": "code",
        "colab": {
          "base_uri": "https://localhost:8080/",
          "height": 85
        },
        "outputId": "40cb18b5-b4bc-4aa2-d688-11af28d7e574"
      },
      "source": [
        "#prepara os datasets de acordo com os meses informados\n",
        "variables = locals()\n",
        "X_train = variables[\"mes{}\".format(mesesTreino[0])].copy()\n",
        "for i in range(1, len(mesesTreino)):\n",
        "  X_train = X_train.append(variables[\"mes{}\".format(mesesTreino[i])])\n",
        "print(X_train.shape)\n",
        "\n",
        "X_test = variables[\"mes{}\".format(mesValidacao)].copy()\n",
        "print(X_test.shape)\n",
        "\n",
        "#e também dos objetivos para validação\n",
        "y_train = variables[\"target{}\".format(mesesTreino[0])].copy()\n",
        "for i in range(1, len(mesesTreino)):\n",
        "  y_train = y_train.append(variables[\"target{}\".format(mesesTreino[i])])\n",
        "print(y_train.shape)\n",
        "\n",
        "y_test = variables[\"target{}\".format(mesValidacao)].copy()\n",
        "print(y_test.shape)\n",
        "#converte em array\n",
        "y_test = y_test.values.ravel()"
      ],
      "execution_count": 6,
      "outputs": [
        {
          "output_type": "stream",
          "text": [
            "(100697, 118)\n",
            "(8211, 118)\n",
            "(100697, 1)\n",
            "(8211, 1)\n"
          ],
          "name": "stdout"
        }
      ]
    },
    {
      "cell_type": "markdown",
      "metadata": {
        "id": "6tirV7EfFNGL",
        "colab_type": "text"
      },
      "source": [
        "# Modelagem"
      ]
    },
    {
      "cell_type": "code",
      "metadata": {
        "id": "ckOdL07AgUaJ",
        "colab_type": "code",
        "colab": {}
      },
      "source": [
        "#definição de parâmetros para todos os classificadores\n",
        "estimadores = 100\n",
        "quantidadeValidacaoCruzada = 10"
      ],
      "execution_count": 7,
      "outputs": []
    },
    {
      "cell_type": "code",
      "metadata": {
        "id": "l--Hx-lwho53",
        "colab_type": "code",
        "colab": {}
      },
      "source": [
        "#define a apresentação dos resultados das modelagens\n",
        "def mostraResultado(y_test, valoresPrevistos):\n",
        "  #lista quantidade de acertos\n",
        "  contaOk = 0\n",
        "  contaNao = 0\n",
        "  contaDesconsiderados = 0\n",
        "  for i in range(0, len(y_test)):\n",
        "    if int(valoresPrevistos[i]) == 1  and y_test[i] == 1:\n",
        "      contaOk += 1\n",
        "    elif int(valoresPrevistos[i]) == 1  and y_test[i] == 2:\n",
        "      contaNao += 1\n",
        "    else:\n",
        "      contaDesconsiderados += 1\n",
        "\n",
        "  print(\"Quantidade de resultados OK: {}\\nQuantidade de resultados Não: {}\".format(contaOk, contaNao))\n",
        "  print(\"Percentual de acertos: {:.1f}%\".format(contaOk/(contaOk+contaNao)*100))\n",
        "  print(\"Quantidade de resultados desconsiderados: {}\".format(contaDesconsiderados))"
      ],
      "execution_count": 8,
      "outputs": []
    },
    {
      "cell_type": "markdown",
      "metadata": {
        "id": "0yao9aoHfSxe",
        "colab_type": "text"
      },
      "source": [
        "###Modelo 1"
      ]
    },
    {
      "cell_type": "code",
      "metadata": {
        "id": "j7mrS5_SFP4T",
        "colab_type": "code",
        "colab": {}
      },
      "source": [
        "#faz a função para gerar modelo 1\n",
        "def rfc_test(X_train, y_train, n_estimators, cv):\n",
        "  np.random.seed(1)\n",
        "  rfc = RandomForestClassifier(n_estimators=n_estimators, random_state=0, n_jobs=-1, criterion='entropy', verbose=0)\n",
        "  cv_scores = cross_val_score(rfc, X_train, y_train, scoring='roc_auc', cv=cv, n_jobs=-1)\n",
        "  print('Média dos {} testes: '.format(cv), cv_scores.mean())\n",
        "  return rfc"
      ],
      "execution_count": 9,
      "outputs": []
    },
    {
      "cell_type": "code",
      "metadata": {
        "id": "3nQtPnTAFYPD",
        "colab_type": "code",
        "colab": {
          "base_uri": "https://localhost:8080/",
          "height": 34
        },
        "outputId": "a755890f-4285-4b9a-911b-d7ad297ae07c"
      },
      "source": [
        "#gera o modelo\n",
        "model = rfc_test(X_train, y_train, cv=quantidadeValidacaoCruzada, n_estimators=estimadores)"
      ],
      "execution_count": 11,
      "outputs": [
        {
          "output_type": "stream",
          "text": [
            "Média dos 10 testes:  0.9674002731705365\n"
          ],
          "name": "stdout"
        }
      ]
    },
    {
      "cell_type": "code",
      "metadata": {
        "id": "QQS0wMb6IJ8g",
        "colab_type": "code",
        "colab": {
          "base_uri": "https://localhost:8080/",
          "height": 153
        },
        "outputId": "1fa22307-2e63-4170-b269-ebfba93d427d"
      },
      "source": [
        "#fit modelo\n",
        "model.fit(X_train, y_train.values.ravel())"
      ],
      "execution_count": 12,
      "outputs": [
        {
          "output_type": "execute_result",
          "data": {
            "text/plain": [
              "RandomForestClassifier(bootstrap=True, ccp_alpha=0.0, class_weight=None,\n",
              "                       criterion='entropy', max_depth=None, max_features='auto',\n",
              "                       max_leaf_nodes=None, max_samples=None,\n",
              "                       min_impurity_decrease=0.0, min_impurity_split=None,\n",
              "                       min_samples_leaf=1, min_samples_split=2,\n",
              "                       min_weight_fraction_leaf=0.0, n_estimators=100,\n",
              "                       n_jobs=-1, oob_score=False, random_state=0, verbose=0,\n",
              "                       warm_start=False)"
            ]
          },
          "metadata": {
            "tags": []
          },
          "execution_count": 12
        }
      ]
    },
    {
      "cell_type": "code",
      "metadata": {
        "id": "8fMmigf-IoCu",
        "colab_type": "code",
        "colab": {
          "base_uri": "https://localhost:8080/",
          "height": 85
        },
        "outputId": "bf4d29af-ec09-4ed9-e5d7-7974cae5f598"
      },
      "source": [
        "#faz predição com dados de validacao\n",
        "valoresPrevistos = model.predict(X_test)\n",
        "#resultado = 1 ou 2\n",
        "mostraResultado(y_test, valoresPrevistos)"
      ],
      "execution_count": 13,
      "outputs": [
        {
          "output_type": "stream",
          "text": [
            "Quantidade de resultados OK: 2970\n",
            "Quantidade de resultados Não: 0\n",
            "Percentual de acertos: 100.0%\n",
            "Quantidade de resultados desconsiderados: 5241\n"
          ],
          "name": "stdout"
        }
      ]
    },
    {
      "cell_type": "code",
      "metadata": {
        "id": "e4WJodpdTnQ1",
        "colab_type": "code",
        "colab": {
          "base_uri": "https://localhost:8080/",
          "height": 312
        },
        "outputId": "1898d290-d30f-4f46-a832-1b8e1940e174"
      },
      "source": [
        "#gera uma matriz de confusão\n",
        "cm = confusion_matrix(y_test, valoresPrevistos)\n",
        "x_axis_labels = [1, 2]\n",
        "y_axis_labels = [1, 2]\n",
        "sns.heatmap(cm, annot=True, cmap='Blues', fmt='g', xticklabels=x_axis_labels, yticklabels=y_axis_labels)\n",
        "plt.title('Matriz de Confusão')\n",
        "plt.ylabel('Real')\n",
        "plt.xlabel('Previsão')\n"
      ],
      "execution_count": 14,
      "outputs": [
        {
          "output_type": "execute_result",
          "data": {
            "text/plain": [
              "Text(0.5, 15.0, 'Previsão')"
            ]
          },
          "metadata": {
            "tags": []
          },
          "execution_count": 14
        },
        {
          "output_type": "display_data",
          "data": {
            "image/png": "[encoded data removed]",
            "text/plain": [
              "<Figure size 432x288 with 2 Axes>"
            ]
          },
          "metadata": {
            "tags": [],
            "needs_background": "light"
          }
        }
      ]
    },
    {
      "cell_type": "markdown",
      "metadata": {
        "id": "RLv1QAGLfVj0",
        "colab_type": "text"
      },
      "source": [
        "###Modelo 2"
      ]
    },
    {
      "cell_type": "code",
      "metadata": {
        "id": "Vbqqko1YdZoF",
        "colab_type": "code",
        "colab": {}
      },
      "source": [
        "#faz a função para gerar modelo 2\n",
        "def abc_test(X_train, y_train, n_estimators, cv):\n",
        "  np.random.seed(1)\n",
        "  abc = AdaBoostClassifier(random_state=2, n_estimators=n_estimators, algorithm='SAMME') \n",
        "  cv_scores = cross_val_score(abc, X_train, y_train, scoring='roc_auc', cv=cv, n_jobs=-1)\n",
        "  print('Média dos {} testes: '.format(cv), cv_scores.mean())\n",
        "  return abc"
      ],
      "execution_count": 15,
      "outputs": []
    },
    {
      "cell_type": "code",
      "metadata": {
        "id": "XHVF2FDWdnmc",
        "colab_type": "code",
        "colab": {
          "base_uri": "https://localhost:8080/",
          "height": 34
        },
        "outputId": "a6e34614-8211-4bd9-a787-af514f5fd8a6"
      },
      "source": [
        "#gera o modelo\n",
        "model = abc_test(X_train, y_train, cv=quantidadeValidacaoCruzada, n_estimators=estimadores)"
      ],
      "execution_count": 16,
      "outputs": [
        {
          "output_type": "stream",
          "text": [
            "Média dos 10 testes:  0.9891099129430646\n"
          ],
          "name": "stdout"
        }
      ]
    },
    {
      "cell_type": "code",
      "metadata": {
        "id": "kOUzr8ZYd5XU",
        "colab_type": "code",
        "colab": {
          "base_uri": "https://localhost:8080/",
          "height": 51
        },
        "outputId": "8b16c4d5-1825-4a2d-9f01-499ea4cf7e83"
      },
      "source": [
        "#fit modelo\n",
        "model.fit(X_train, y_train.values.ravel())"
      ],
      "execution_count": 17,
      "outputs": [
        {
          "output_type": "execute_result",
          "data": {
            "text/plain": [
              "AdaBoostClassifier(algorithm='SAMME', base_estimator=None, learning_rate=1.0,\n",
              "                   n_estimators=100, random_state=2)"
            ]
          },
          "metadata": {
            "tags": []
          },
          "execution_count": 17
        }
      ]
    },
    {
      "cell_type": "code",
      "metadata": {
        "id": "p7-mwpJ6d9jr",
        "colab_type": "code",
        "colab": {
          "base_uri": "https://localhost:8080/",
          "height": 85
        },
        "outputId": "01eb27c2-f86b-4e22-f2c1-e368c0fb9d83"
      },
      "source": [
        "#faz predição com dados de validacao\n",
        "valoresPrevistos = model.predict(X_test)\n",
        "#resultado = 1 ou 2\n",
        "mostraResultado(y_test, valoresPrevistos)"
      ],
      "execution_count": 18,
      "outputs": [
        {
          "output_type": "stream",
          "text": [
            "Quantidade de resultados OK: 3057\n",
            "Quantidade de resultados Não: 0\n",
            "Percentual de acertos: 100.0%\n",
            "Quantidade de resultados desconsiderados: 5154\n"
          ],
          "name": "stdout"
        }
      ]
    },
    {
      "cell_type": "markdown",
      "metadata": {
        "id": "Z6-OwUllfWzX",
        "colab_type": "text"
      },
      "source": [
        "###Modelo 3"
      ]
    },
    {
      "cell_type": "code",
      "metadata": {
        "id": "nalXWmkAeDqz",
        "colab_type": "code",
        "colab": {}
      },
      "source": [
        "#faz a função para gerar modelo 3\n",
        "def gbc_test(X_train, y_train, n_estimators, cv):\n",
        "  np.random.seed(1)\n",
        "  gbc = GradientBoostingClassifier(random_state=2, n_estimators=n_estimators) \n",
        "  cv_scores = cross_val_score(gbc, X_train, y_train, scoring='roc_auc', cv=cv, n_jobs=-1)\n",
        "  print('Média dos {} testes: '.format(cv), cv_scores.mean())\n",
        "  return gbc"
      ],
      "execution_count": 19,
      "outputs": []
    },
    {
      "cell_type": "code",
      "metadata": {
        "id": "kDktlVtOeQWN",
        "colab_type": "code",
        "colab": {
          "base_uri": "https://localhost:8080/",
          "height": 34
        },
        "outputId": "97bea935-eb29-413e-88c7-f98995d1bf95"
      },
      "source": [
        "#gera o modelo\n",
        "model = gbc_test(X_train, y_train, cv=quantidadeValidacaoCruzada, n_estimators=estimadores)"
      ],
      "execution_count": 20,
      "outputs": [
        {
          "output_type": "stream",
          "text": [
            "Média dos 10 testes:  0.9910194295730268\n"
          ],
          "name": "stdout"
        }
      ]
    },
    {
      "cell_type": "code",
      "metadata": {
        "id": "QWR8AvJYeTCD",
        "colab_type": "code",
        "colab": {
          "base_uri": "https://localhost:8080/",
          "height": 187
        },
        "outputId": "1f6b8403-d661-4edd-b1c4-639b2aa46600"
      },
      "source": [
        "#fit modelo\n",
        "model.fit(X_train, y_train.values.ravel())"
      ],
      "execution_count": 21,
      "outputs": [
        {
          "output_type": "execute_result",
          "data": {
            "text/plain": [
              "GradientBoostingClassifier(ccp_alpha=0.0, criterion='friedman_mse', init=None,\n",
              "                           learning_rate=0.1, loss='deviance', max_depth=3,\n",
              "                           max_features=None, max_leaf_nodes=None,\n",
              "                           min_impurity_decrease=0.0, min_impurity_split=None,\n",
              "                           min_samples_leaf=1, min_samples_split=2,\n",
              "                           min_weight_fraction_leaf=0.0, n_estimators=100,\n",
              "                           n_iter_no_change=None, presort='deprecated',\n",
              "                           random_state=2, subsample=1.0, tol=0.0001,\n",
              "                           validation_fraction=0.1, verbose=0,\n",
              "                           warm_start=False)"
            ]
          },
          "metadata": {
            "tags": []
          },
          "execution_count": 21
        }
      ]
    },
    {
      "cell_type": "code",
      "metadata": {
        "id": "1GJItMpgeVbT",
        "colab_type": "code",
        "colab": {
          "base_uri": "https://localhost:8080/",
          "height": 85
        },
        "outputId": "a5f9af11-fc96-4582-e0cb-8ce5d9b1fc8a"
      },
      "source": [
        "#faz predição com dados de validacao\n",
        "valoresPrevistos = model.predict(X_test)\n",
        "#resultado = 1 ou 2\n",
        "mostraResultado(y_test, valoresPrevistos)"
      ],
      "execution_count": 22,
      "outputs": [
        {
          "output_type": "stream",
          "text": [
            "Quantidade de resultados OK: 3059\n",
            "Quantidade de resultados Não: 0\n",
            "Percentual de acertos: 100.0%\n",
            "Quantidade de resultados desconsiderados: 5152\n"
          ],
          "name": "stdout"
        }
      ]
    },
    {
      "cell_type": "markdown",
      "metadata": {
        "id": "4jVBCu28fYo7",
        "colab_type": "text"
      },
      "source": [
        "###Modelo 4 - Rede Neural"
      ]
    },
    {
      "cell_type": "code",
      "metadata": {
        "id": "k1XpUnap6gKY",
        "colab_type": "code",
        "colab": {
          "base_uri": "https://localhost:8080/",
          "height": 578
        },
        "outputId": "fe97d4a6-fac0-4461-a57c-a76a676d0c64"
      },
      "source": [
        "#faz a função para gerar modelo 4 com rede neural keras\n",
        "model = Sequential()\n",
        "model.add(Dense(77, activation='relu', input_dim=77))\n",
        "model.add(Dense(77, activation='relu'))\n",
        "model.add(Dense(units=1, activation='sigmoid'))\n",
        "model.summary()\n",
        "model.compile(optimizer='rmsprop', loss='binary_crossentropy',\n",
        "metrics=['accuracy'])\n",
        "\n",
        "history = model.fit(X_train, y_train, epochs=10, batch_size=500, validation_data=(X_test, y_test))\n"
      ],
      "execution_count": 23,
      "outputs": [
        {
          "output_type": "stream",
          "text": [
            "Model: \"sequential_1\"\n",
            "_________________________________________________________________\n",
            "Layer (type)                 Output Shape              Param #   \n",
            "=================================================================\n",
            "dense_1 (Dense)              (None, 77)                6006      \n",
            "_________________________________________________________________\n",
            "dense_2 (Dense)              (None, 77)                6006      \n",
            "_________________________________________________________________\n",
            "dense_3 (Dense)              (None, 1)                 78        \n",
            "=================================================================\n",
            "Total params: 12,090\n",
            "Trainable params: 12,090\n",
            "Non-trainable params: 0\n",
            "_________________________________________________________________\n"
          ],
          "name": "stdout"
        },
        {
          "output_type": "error",
          "ename": "ValueError",
          "evalue": "ignored",
          "traceback": [
            "\u001b[0;31m---------------------------------------------------------------------------\u001b[0m",
            "\u001b[0;31mValueError\u001b[0m                                Traceback (most recent call last)",
            "\u001b[0;32m<ipython-input-23-b55119ff08de>\u001b[0m in \u001b[0;36m<module>\u001b[0;34m()\u001b[0m\n\u001b[1;32m      8\u001b[0m metrics=['accuracy'])\n\u001b[1;32m      9\u001b[0m \u001b[0;34m\u001b[0m\u001b[0m\n\u001b[0;32m---> 10\u001b[0;31m \u001b[0mhistory\u001b[0m \u001b[0;34m=\u001b[0m \u001b[0mmodel\u001b[0m\u001b[0;34m.\u001b[0m\u001b[0mfit\u001b[0m\u001b[0;34m(\u001b[0m\u001b[0mX_train\u001b[0m\u001b[0;34m,\u001b[0m \u001b[0my_train\u001b[0m\u001b[0;34m,\u001b[0m \u001b[0mepochs\u001b[0m\u001b[0;34m=\u001b[0m\u001b[0;36m10\u001b[0m\u001b[0;34m,\u001b[0m \u001b[0mbatch_size\u001b[0m\u001b[0;34m=\u001b[0m\u001b[0;36m500\u001b[0m\u001b[0;34m,\u001b[0m \u001b[0mvalidation_data\u001b[0m\u001b[0;34m=\u001b[0m\u001b[0;34m(\u001b[0m\u001b[0mX_test\u001b[0m\u001b[0;34m,\u001b[0m \u001b[0my_test\u001b[0m\u001b[0;34m)\u001b[0m\u001b[0;34m)\u001b[0m\u001b[0;34m\u001b[0m\u001b[0;34m\u001b[0m\u001b[0m\n\u001b[0m",
            "\u001b[0;32m/usr/local/lib/python3.6/dist-packages/keras/engine/training.py\u001b[0m in \u001b[0;36mfit\u001b[0;34m(self, x, y, batch_size, epochs, verbose, callbacks, validation_split, validation_data, shuffle, class_weight, sample_weight, initial_epoch, steps_per_epoch, validation_steps, validation_freq, max_queue_size, workers, use_multiprocessing, **kwargs)\u001b[0m\n\u001b[1;32m   1152\u001b[0m             \u001b[0msample_weight\u001b[0m\u001b[0;34m=\u001b[0m\u001b[0msample_weight\u001b[0m\u001b[0;34m,\u001b[0m\u001b[0;34m\u001b[0m\u001b[0;34m\u001b[0m\u001b[0m\n\u001b[1;32m   1153\u001b[0m             \u001b[0mclass_weight\u001b[0m\u001b[0;34m=\u001b[0m\u001b[0mclass_weight\u001b[0m\u001b[0;34m,\u001b[0m\u001b[0;34m\u001b[0m\u001b[0;34m\u001b[0m\u001b[0m\n\u001b[0;32m-> 1154\u001b[0;31m             batch_size=batch_size)\n\u001b[0m\u001b[1;32m   1155\u001b[0m \u001b[0;34m\u001b[0m\u001b[0m\n\u001b[1;32m   1156\u001b[0m         \u001b[0;31m# Prepare validation data.\u001b[0m\u001b[0;34m\u001b[0m\u001b[0;34m\u001b[0m\u001b[0;34m\u001b[0m\u001b[0m\n",
            "\u001b[0;32m/usr/local/lib/python3.6/dist-packages/keras/engine/training.py\u001b[0m in \u001b[0;36m_standardize_user_data\u001b[0;34m(self, x, y, sample_weight, class_weight, check_array_lengths, batch_size)\u001b[0m\n\u001b[1;32m    577\u001b[0m             \u001b[0mfeed_input_shapes\u001b[0m\u001b[0;34m,\u001b[0m\u001b[0;34m\u001b[0m\u001b[0;34m\u001b[0m\u001b[0m\n\u001b[1;32m    578\u001b[0m             \u001b[0mcheck_batch_axis\u001b[0m\u001b[0;34m=\u001b[0m\u001b[0;32mFalse\u001b[0m\u001b[0;34m,\u001b[0m  \u001b[0;31m# Don't enforce the batch size.\u001b[0m\u001b[0;34m\u001b[0m\u001b[0;34m\u001b[0m\u001b[0m\n\u001b[0;32m--> 579\u001b[0;31m             exception_prefix='input')\n\u001b[0m\u001b[1;32m    580\u001b[0m \u001b[0;34m\u001b[0m\u001b[0m\n\u001b[1;32m    581\u001b[0m         \u001b[0;32mif\u001b[0m \u001b[0my\u001b[0m \u001b[0;32mis\u001b[0m \u001b[0;32mnot\u001b[0m \u001b[0;32mNone\u001b[0m\u001b[0;34m:\u001b[0m\u001b[0;34m\u001b[0m\u001b[0;34m\u001b[0m\u001b[0m\n",
            "\u001b[0;32m/usr/local/lib/python3.6/dist-packages/keras/engine/training_utils.py\u001b[0m in \u001b[0;36mstandardize_input_data\u001b[0;34m(data, names, shapes, check_batch_axis, exception_prefix)\u001b[0m\n\u001b[1;32m    143\u001b[0m                             \u001b[0;34m': expected '\u001b[0m \u001b[0;34m+\u001b[0m \u001b[0mnames\u001b[0m\u001b[0;34m[\u001b[0m\u001b[0mi\u001b[0m\u001b[0;34m]\u001b[0m \u001b[0;34m+\u001b[0m \u001b[0;34m' to have shape '\u001b[0m \u001b[0;34m+\u001b[0m\u001b[0;34m\u001b[0m\u001b[0;34m\u001b[0m\u001b[0m\n\u001b[1;32m    144\u001b[0m                             \u001b[0mstr\u001b[0m\u001b[0;34m(\u001b[0m\u001b[0mshape\u001b[0m\u001b[0;34m)\u001b[0m \u001b[0;34m+\u001b[0m \u001b[0;34m' but got array with shape '\u001b[0m \u001b[0;34m+\u001b[0m\u001b[0;34m\u001b[0m\u001b[0;34m\u001b[0m\u001b[0m\n\u001b[0;32m--> 145\u001b[0;31m                             str(data_shape))\n\u001b[0m\u001b[1;32m    146\u001b[0m     \u001b[0;32mreturn\u001b[0m \u001b[0mdata\u001b[0m\u001b[0;34m\u001b[0m\u001b[0;34m\u001b[0m\u001b[0m\n\u001b[1;32m    147\u001b[0m \u001b[0;34m\u001b[0m\u001b[0m\n",
            "\u001b[0;31mValueError\u001b[0m: Error when checking input: expected dense_1_input to have shape (77,) but got array with shape (118,)"
          ]
        }
      ]
    },
    {
      "cell_type": "code",
      "metadata": {
        "id": "_MHOuQGE7ltu",
        "colab_type": "code",
        "colab": {
          "base_uri": "https://localhost:8080/",
          "height": 231
        },
        "outputId": "d0a8d197-c7be-48db-b73a-8aede7d755d8"
      },
      "source": [
        "epochs = range(0, len(history.history['accuracy']))\n",
        "plt.plot(epochs, history.history['accuracy'], 'bo', label='Training accuracy')\n",
        "plt.plot(epochs, history.history['val_accuracy'], 'b', label='Validation accuracy')\n",
        "plt.title('Training and validation accuracy')\n",
        "plt.xlabel('Epochs')\n",
        "plt.ylabel('Loss')\n",
        "plt.legend()\n",
        "plt.show()"
      ],
      "execution_count": 25,
      "outputs": [
        {
          "output_type": "error",
          "ename": "NameError",
          "evalue": "ignored",
          "traceback": [
            "\u001b[0;31m---------------------------------------------------------------------------\u001b[0m",
            "\u001b[0;31mNameError\u001b[0m                                 Traceback (most recent call last)",
            "\u001b[0;32m<ipython-input-25-42a1d363f4f6>\u001b[0m in \u001b[0;36m<module>\u001b[0;34m()\u001b[0m\n\u001b[0;32m----> 1\u001b[0;31m \u001b[0mepochs\u001b[0m \u001b[0;34m=\u001b[0m \u001b[0mrange\u001b[0m\u001b[0;34m(\u001b[0m\u001b[0;36m0\u001b[0m\u001b[0;34m,\u001b[0m \u001b[0mlen\u001b[0m\u001b[0;34m(\u001b[0m\u001b[0mhistory\u001b[0m\u001b[0;34m.\u001b[0m\u001b[0mhistory\u001b[0m\u001b[0;34m[\u001b[0m\u001b[0;34m'accuracy'\u001b[0m\u001b[0;34m]\u001b[0m\u001b[0;34m)\u001b[0m\u001b[0;34m)\u001b[0m\u001b[0;34m\u001b[0m\u001b[0;34m\u001b[0m\u001b[0m\n\u001b[0m\u001b[1;32m      2\u001b[0m \u001b[0mplt\u001b[0m\u001b[0;34m.\u001b[0m\u001b[0mplot\u001b[0m\u001b[0;34m(\u001b[0m\u001b[0mepochs\u001b[0m\u001b[0;34m,\u001b[0m \u001b[0mhistory\u001b[0m\u001b[0;34m.\u001b[0m\u001b[0mhistory\u001b[0m\u001b[0;34m[\u001b[0m\u001b[0;34m'accuracy'\u001b[0m\u001b[0;34m]\u001b[0m\u001b[0;34m,\u001b[0m \u001b[0;34m'bo'\u001b[0m\u001b[0;34m,\u001b[0m \u001b[0mlabel\u001b[0m\u001b[0;34m=\u001b[0m\u001b[0;34m'Training accuracy'\u001b[0m\u001b[0;34m)\u001b[0m\u001b[0;34m\u001b[0m\u001b[0;34m\u001b[0m\u001b[0m\n\u001b[1;32m      3\u001b[0m \u001b[0mplt\u001b[0m\u001b[0;34m.\u001b[0m\u001b[0mplot\u001b[0m\u001b[0;34m(\u001b[0m\u001b[0mepochs\u001b[0m\u001b[0;34m,\u001b[0m \u001b[0mhistory\u001b[0m\u001b[0;34m.\u001b[0m\u001b[0mhistory\u001b[0m\u001b[0;34m[\u001b[0m\u001b[0;34m'val_accuracy'\u001b[0m\u001b[0;34m]\u001b[0m\u001b[0;34m,\u001b[0m \u001b[0;34m'b'\u001b[0m\u001b[0;34m,\u001b[0m \u001b[0mlabel\u001b[0m\u001b[0;34m=\u001b[0m\u001b[0;34m'Validation accuracy'\u001b[0m\u001b[0;34m)\u001b[0m\u001b[0;34m\u001b[0m\u001b[0;34m\u001b[0m\u001b[0m\n\u001b[1;32m      4\u001b[0m \u001b[0mplt\u001b[0m\u001b[0;34m.\u001b[0m\u001b[0mtitle\u001b[0m\u001b[0;34m(\u001b[0m\u001b[0;34m'Training and validation accuracy'\u001b[0m\u001b[0;34m)\u001b[0m\u001b[0;34m\u001b[0m\u001b[0;34m\u001b[0m\u001b[0m\n\u001b[1;32m      5\u001b[0m \u001b[0mplt\u001b[0m\u001b[0;34m.\u001b[0m\u001b[0mxlabel\u001b[0m\u001b[0;34m(\u001b[0m\u001b[0;34m'Epochs'\u001b[0m\u001b[0;34m)\u001b[0m\u001b[0;34m\u001b[0m\u001b[0;34m\u001b[0m\u001b[0m\n",
            "\u001b[0;31mNameError\u001b[0m: name 'history' is not defined"
          ]
        }
      ]
    },
    {
      "cell_type": "code",
      "metadata": {
        "id": "e7rsJjFB82Xc",
        "colab_type": "code",
        "colab": {}
      },
      "source": [
        "epochs = range(1, len(history.history['loss']) + 1)\n",
        "plt.plot(epochs, history.history['loss'], 'bo', label='Training loss')\n",
        "plt.plot(epochs, history.history['val_loss'], 'b', label='Validation loss')\n",
        "plt.title('Training and validation loss')\n",
        "plt.xlabel('Epochs')\n",
        "plt.ylabel('Loss')\n",
        "plt.legend()\n",
        "plt.show()"
      ],
      "execution_count": null,
      "outputs": []
    },
    {
      "cell_type": "code",
      "metadata": {
        "id": "LCZuGk6iDcih",
        "colab_type": "code",
        "colab": {}
      },
      "source": [
        "y_test"
      ],
      "execution_count": null,
      "outputs": []
    },
    {
      "cell_type": "code",
      "metadata": {
        "id": "uH6lV7Hy_MPf",
        "colab_type": "code",
        "colab": {}
      },
      "source": [
        "#faz predição com dados de validacao\n",
        "valoresPrevistos = model.predict_classes(X_test)\n",
        "#resultado = 1 ou 2\n",
        "mostraResultado(y_test, valoresPrevistos)"
      ],
      "execution_count": null,
      "outputs": []
    },
    {
      "cell_type": "code",
      "metadata": {
        "id": "LsAknLUmLQfM",
        "colab_type": "code",
        "colab": {}
      },
      "source": [
        "\n",
        "len(valoresPrevistos)"
      ],
      "execution_count": null,
      "outputs": []
    },
    {
      "cell_type": "code",
      "metadata": {
        "id": "MACb4X-XH8yg",
        "colab_type": "code",
        "colab": {}
      },
      "source": [
        "#este resultado precisa ser verificado, não está coerente\n",
        "for i in valoresPrevistos:\n",
        "  print(i)"
      ],
      "execution_count": null,
      "outputs": []
    },
    {
      "cell_type": "markdown",
      "metadata": {
        "id": "Y9HJKJHwfbrb",
        "colab_type": "text"
      },
      "source": [
        "###Modelo 5"
      ]
    },
    {
      "cell_type": "code",
      "metadata": {
        "id": "SQnQKQ-wfcxc",
        "colab_type": "code",
        "colab": {}
      },
      "source": [
        "#faz a função para gerar modelo 5\n",
        "def etc_test(X_train, y_train, n_estimators, cv):\n",
        "  np.random.seed(1)\n",
        "  etc = ExtraTreesClassifier(random_state=2, n_estimators=n_estimators) \n",
        "  cv_scores = cross_val_score(etc, X_train, y_train, scoring='roc_auc', cv=cv, n_jobs=-1)\n",
        "  print('Média dos {} testes: '.format(cv), cv_scores.mean())\n",
        "  return etc"
      ],
      "execution_count": 26,
      "outputs": []
    },
    {
      "cell_type": "code",
      "metadata": {
        "id": "6JkGXdUFfqeM",
        "colab_type": "code",
        "colab": {
          "base_uri": "https://localhost:8080/",
          "height": 34
        },
        "outputId": "05f6b719-a111-41be-bc3f-3caec4b0dde8"
      },
      "source": [
        "#gera o modelo\n",
        "model = etc_test(X_train, y_train, cv=quantidadeValidacaoCruzada, n_estimators=estimadores)"
      ],
      "execution_count": 27,
      "outputs": [
        {
          "output_type": "stream",
          "text": [
            "Média dos 10 testes:  0.9618122159103498\n"
          ],
          "name": "stdout"
        }
      ]
    },
    {
      "cell_type": "code",
      "metadata": {
        "id": "8pYKgggzfs9M",
        "colab_type": "code",
        "colab": {
          "base_uri": "https://localhost:8080/",
          "height": 153
        },
        "outputId": "b47c7a0d-b8df-49ab-c8af-99b7f1c16aae"
      },
      "source": [
        "#fit modelo\n",
        "model.fit(X_train, y_train.values.ravel())"
      ],
      "execution_count": 28,
      "outputs": [
        {
          "output_type": "execute_result",
          "data": {
            "text/plain": [
              "ExtraTreesClassifier(bootstrap=False, ccp_alpha=0.0, class_weight=None,\n",
              "                     criterion='gini', max_depth=None, max_features='auto',\n",
              "                     max_leaf_nodes=None, max_samples=None,\n",
              "                     min_impurity_decrease=0.0, min_impurity_split=None,\n",
              "                     min_samples_leaf=1, min_samples_split=2,\n",
              "                     min_weight_fraction_leaf=0.0, n_estimators=100,\n",
              "                     n_jobs=None, oob_score=False, random_state=2, verbose=0,\n",
              "                     warm_start=False)"
            ]
          },
          "metadata": {
            "tags": []
          },
          "execution_count": 28
        }
      ]
    },
    {
      "cell_type": "code",
      "metadata": {
        "id": "CvCqOp6Sfus9",
        "colab_type": "code",
        "colab": {
          "base_uri": "https://localhost:8080/",
          "height": 85
        },
        "outputId": "4064513e-648f-48fc-87b4-01a4fb3ecbcc"
      },
      "source": [
        "#faz predição com dados de validacao\n",
        "valoresPrevistos = model.predict(X_test)\n",
        "#resultado = 1 ou 2\n",
        "mostraResultado(y_test, valoresPrevistos)"
      ],
      "execution_count": 29,
      "outputs": [
        {
          "output_type": "stream",
          "text": [
            "Quantidade de resultados OK: 2964\n",
            "Quantidade de resultados Não: 0\n",
            "Percentual de acertos: 100.0%\n",
            "Quantidade de resultados desconsiderados: 5247\n"
          ],
          "name": "stdout"
        }
      ]
    },
    {
      "cell_type": "markdown",
      "metadata": {
        "id": "qWHBrTd7szA4",
        "colab_type": "text"
      },
      "source": [
        "## Exportação do modelo divididos para conferência"
      ]
    },
    {
      "cell_type": "code",
      "metadata": {
        "id": "aba2NSrls1h3",
        "colab_type": "code",
        "colab": {}
      },
      "source": [
        "#salva o modelo para uso posterior em outro notebook em produção\n",
        "arquivo_modelo = 'modeloV2.pkl'\n",
        "pickle.dump(model, open(arquivo_modelo, 'wb'))"
      ],
      "execution_count": 30,
      "outputs": []
    }
  ]
}