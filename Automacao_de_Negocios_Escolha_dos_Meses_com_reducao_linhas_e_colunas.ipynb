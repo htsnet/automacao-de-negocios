{
  "nbformat": 4,
  "nbformat_minor": 0,
  "metadata": {
    "colab": {
      "name": "Automacao de Negocios Escolha dos Meses com reducao linhas e colunas",
      "provenance": [],
      "collapsed_sections": [],
      "toc_visible": true,
      "authorship_tag": "ABX9TyN3Ujcb0obSDNxwNzzizk90",
      "include_colab_link": true
    },
    "kernelspec": {
      "name": "python3",
      "display_name": "Python 3"
    }
  },
  "cells": [
    {
      "cell_type": "markdown",
      "metadata": {
        "id": "view-in-github",
        "colab_type": "text"
      },
      "source": [
        "<a href=\"https://colab.research.google.com/github/htsnet/automacao-de-negocios/blob/master/Automacao_de_Negocios_Escolha_dos_Meses_com_reducao_linhas_e_colunas.ipynb\" target=\"_parent\"><img src=\"https://colab.research.google.com/assets/colab-badge.svg\" alt=\"Open In Colab\"/></a>"
      ]
    },
    {
      "cell_type": "markdown",
      "metadata": {
        "id": "0XIrIoBwb1NN",
        "colab_type": "text"
      },
      "source": [
        "#Uma variação do notebook original, com indicação manual dos meses para treino e do mês de validação. Também faz um corte no número de linhas do histórico (1 a cada 10 operações)\n"
      ]
    },
    {
      "cell_type": "markdown",
      "metadata": {
        "id": "esQEmXvQUDAO",
        "colab_type": "text"
      },
      "source": [
        "# Início: Importação as bibliotecas e Arquivo\n",
        "É preciso carregar um arquivo CSV com o padrão definido para execução do notebook"
      ]
    },
    {
      "cell_type": "code",
      "metadata": {
        "id": "60MYovA_7su6",
        "colab_type": "code",
        "colab": {
          "base_uri": "https://localhost:8080/",
          "height": 88
        },
        "outputId": "46b26141-acdf-4dc2-9747-c858a56b8c36"
      },
      "source": [
        "import pandas as pd\n",
        "import numpy as np\n",
        "from sklearn.ensemble import ExtraTreesClassifier, RandomForestClassifier, GradientBoostingClassifier, AdaBoostClassifier\n",
        "from matplotlib import pyplot as plt\n",
        "from sklearn.metrics import roc_auc_score\n",
        "from sklearn.model_selection import train_test_split, cross_val_score, GridSearchCV\n",
        "from sklearn.ensemble import RandomForestRegressor\n",
        "from sklearn.metrics import mean_absolute_error\n",
        "from matplotlib.pyplot import figure\n",
        "import datetime\n",
        "import pickle\n",
        "from sklearn.metrics import confusion_matrix, accuracy_score, roc_curve, auc\n",
        "import seaborn as sns\n",
        "# TensorFlow e tf.keras\n",
        "import tensorflow as tf\n",
        "from tensorflow import keras\n",
        "from keras.models import Sequential\n",
        "from keras.layers import Dense"
      ],
      "execution_count": 1,
      "outputs": [
        {
          "output_type": "stream",
          "text": [
            "/usr/local/lib/python3.6/dist-packages/statsmodels/tools/_testing.py:19: FutureWarning: pandas.util.testing is deprecated. Use the functions in the public API at pandas.testing instead.\n",
            "  import pandas.util.testing as tm\n",
            "Using TensorFlow backend.\n"
          ],
          "name": "stderr"
        }
      ]
    },
    {
      "cell_type": "code",
      "metadata": {
        "id": "9lrF2JfV8RVC",
        "colab_type": "code",
        "colab": {}
      },
      "source": [
        "#carrega a tabela de dados\n",
        "#separador de campos = ;\n",
        "#ponto decimal = ,\n",
        "historic = pd.read_csv(\"/content/Amostra Completa - Mercado Futuro.csv\", sep=\";\", decimal=\",\")"
      ],
      "execution_count": 2,
      "outputs": []
    },
    {
      "cell_type": "code",
      "metadata": {
        "id": "bSeb5skcepaY",
        "colab_type": "code",
        "colab": {
          "base_uri": "https://localhost:8080/",
          "height": 270
        },
        "outputId": "c759e23c-f841-436e-ff0e-d7b3fe9cf2c7"
      },
      "source": [
        "#converte o campo data (string) em formato de data\n",
        "historic['DataFormatada'] = pd.to_datetime(historic['Data'], format='%d/%m/%Y')\n",
        "historic.head()"
      ],
      "execution_count": 3,
      "outputs": [
        {
          "output_type": "execute_result",
          "data": {
            "text/html": [
              "<div>\n",
              "<style scoped>\n",
              "    .dataframe tbody tr th:only-of-type {\n",
              "        vertical-align: middle;\n",
              "    }\n",
              "\n",
              "    .dataframe tbody tr th {\n",
              "        vertical-align: top;\n",
              "    }\n",
              "\n",
              "    .dataframe thead th {\n",
              "        text-align: right;\n",
              "    }\n",
              "</style>\n",
              "<table border=\"1\" class=\"dataframe\">\n",
              "  <thead>\n",
              "    <tr style=\"text-align: right;\">\n",
              "      <th></th>\n",
              "      <th>CodOp</th>\n",
              "      <th>Hora Entrada</th>\n",
              "      <th>Hora Saida</th>\n",
              "      <th>Duração</th>\n",
              "      <th>Data</th>\n",
              "      <th>Pentrada</th>\n",
              "      <th>Psaida</th>\n",
              "      <th>Ganhos</th>\n",
              "      <th>Perdas</th>\n",
              "      <th>Resultado</th>\n",
              "      <th>Saldo Trade</th>\n",
              "      <th>K entra</th>\n",
              "      <th>K Saida</th>\n",
              "      <th>Item 1</th>\n",
              "      <th>Item 2</th>\n",
              "      <th>Item 3</th>\n",
              "      <th>Item 4</th>\n",
              "      <th>Item 5</th>\n",
              "      <th>Item 6</th>\n",
              "      <th>Item 7</th>\n",
              "      <th>Item 8</th>\n",
              "      <th>Item 9</th>\n",
              "      <th>Item 10</th>\n",
              "      <th>Item 11</th>\n",
              "      <th>Item 12</th>\n",
              "      <th>Item 13</th>\n",
              "      <th>Item 14</th>\n",
              "      <th>Item 15</th>\n",
              "      <th>Item 16</th>\n",
              "      <th>Item 17</th>\n",
              "      <th>Item 18</th>\n",
              "      <th>Item 19</th>\n",
              "      <th>Item 20</th>\n",
              "      <th>Item 21</th>\n",
              "      <th>Item 22</th>\n",
              "      <th>Item 23</th>\n",
              "      <th>Item 24</th>\n",
              "      <th>Item 25</th>\n",
              "      <th>Item 26</th>\n",
              "      <th>Item 27</th>\n",
              "      <th>...</th>\n",
              "      <th>Item 39</th>\n",
              "      <th>Item 40</th>\n",
              "      <th>Item 41</th>\n",
              "      <th>Item 42</th>\n",
              "      <th>Item 43</th>\n",
              "      <th>Item 44</th>\n",
              "      <th>Item 45</th>\n",
              "      <th>Item 46</th>\n",
              "      <th>Item 47</th>\n",
              "      <th>Item 48</th>\n",
              "      <th>Item 49</th>\n",
              "      <th>Item 50</th>\n",
              "      <th>Item 51</th>\n",
              "      <th>Item 52</th>\n",
              "      <th>Item 53</th>\n",
              "      <th>Item 54</th>\n",
              "      <th>Item 55</th>\n",
              "      <th>Item 56</th>\n",
              "      <th>Item 57</th>\n",
              "      <th>Item 58</th>\n",
              "      <th>Item 59</th>\n",
              "      <th>Item 60</th>\n",
              "      <th>Item 61</th>\n",
              "      <th>Item 62</th>\n",
              "      <th>Item 63</th>\n",
              "      <th>Item 64</th>\n",
              "      <th>Item 65</th>\n",
              "      <th>Item 66</th>\n",
              "      <th>Item 67</th>\n",
              "      <th>Item 68</th>\n",
              "      <th>Item 69</th>\n",
              "      <th>Item 70</th>\n",
              "      <th>Item 71</th>\n",
              "      <th>Item 72</th>\n",
              "      <th>Item 73</th>\n",
              "      <th>Item 74</th>\n",
              "      <th>Item 75</th>\n",
              "      <th>Item 76</th>\n",
              "      <th>Item 77</th>\n",
              "      <th>DataFormatada</th>\n",
              "    </tr>\n",
              "  </thead>\n",
              "  <tbody>\n",
              "    <tr>\n",
              "      <th>0</th>\n",
              "      <td>9601</td>\n",
              "      <td>11:00:14</td>\n",
              "      <td>11:14:14</td>\n",
              "      <td>00:13:59</td>\n",
              "      <td>02/01/2019</td>\n",
              "      <td>3876.5</td>\n",
              "      <td>3862.5</td>\n",
              "      <td>0.0</td>\n",
              "      <td>14.0</td>\n",
              "      <td>2</td>\n",
              "      <td>-14.0</td>\n",
              "      <td>120</td>\n",
              "      <td>135</td>\n",
              "      <td>54400</td>\n",
              "      <td>-1800</td>\n",
              "      <td>-11.5</td>\n",
              "      <td>24</td>\n",
              "      <td>460.0</td>\n",
              "      <td>460.0</td>\n",
              "      <td>460.0</td>\n",
              "      <td>460.0</td>\n",
              "      <td>280.0</td>\n",
              "      <td>6800.0</td>\n",
              "      <td>9000.0</td>\n",
              "      <td>11400.0</td>\n",
              "      <td>22.0</td>\n",
              "      <td>52.0</td>\n",
              "      <td>40.5</td>\n",
              "      <td>37.5</td>\n",
              "      <td>-11.0</td>\n",
              "      <td>-6.0</td>\n",
              "      <td>-4.0</td>\n",
              "      <td>1.0</td>\n",
              "      <td>-1.0</td>\n",
              "      <td>-2.0</td>\n",
              "      <td>-58</td>\n",
              "      <td>-0.52</td>\n",
              "      <td>-66</td>\n",
              "      <td>-0.84</td>\n",
              "      <td>-60</td>\n",
              "      <td>...</td>\n",
              "      <td>33</td>\n",
              "      <td>39</td>\n",
              "      <td>41</td>\n",
              "      <td>27</td>\n",
              "      <td>37</td>\n",
              "      <td>44</td>\n",
              "      <td>0</td>\n",
              "      <td>100</td>\n",
              "      <td>500</td>\n",
              "      <td>5</td>\n",
              "      <td>15</td>\n",
              "      <td>5</td>\n",
              "      <td>0</td>\n",
              "      <td>0</td>\n",
              "      <td>-1500</td>\n",
              "      <td>10</td>\n",
              "      <td>10</td>\n",
              "      <td>440</td>\n",
              "      <td>-11</td>\n",
              "      <td>-4.0</td>\n",
              "      <td>-8.5</td>\n",
              "      <td>-9.5</td>\n",
              "      <td>-7.0</td>\n",
              "      <td>-8.5</td>\n",
              "      <td>-9.5</td>\n",
              "      <td>-6.5</td>\n",
              "      <td>-2.0</td>\n",
              "      <td>-1.0</td>\n",
              "      <td>-3.5</td>\n",
              "      <td>-2.0</td>\n",
              "      <td>-1.0</td>\n",
              "      <td>-3.0</td>\n",
              "      <td>0.0</td>\n",
              "      <td>-1.0</td>\n",
              "      <td>0.0</td>\n",
              "      <td>0.0</td>\n",
              "      <td>0.0</td>\n",
              "      <td>2.9</td>\n",
              "      <td>5.4</td>\n",
              "      <td>2019-01-02</td>\n",
              "    </tr>\n",
              "    <tr>\n",
              "      <th>1</th>\n",
              "      <td>9602</td>\n",
              "      <td>11:01:15</td>\n",
              "      <td>11:14:29</td>\n",
              "      <td>00:13:14</td>\n",
              "      <td>02/01/2019</td>\n",
              "      <td>3874.5</td>\n",
              "      <td>3859.0</td>\n",
              "      <td>0.0</td>\n",
              "      <td>15.5</td>\n",
              "      <td>2</td>\n",
              "      <td>-15.5</td>\n",
              "      <td>120</td>\n",
              "      <td>135</td>\n",
              "      <td>57600</td>\n",
              "      <td>-2200</td>\n",
              "      <td>-13.5</td>\n",
              "      <td>24</td>\n",
              "      <td>460.0</td>\n",
              "      <td>460.0</td>\n",
              "      <td>460.0</td>\n",
              "      <td>460.0</td>\n",
              "      <td>480.0</td>\n",
              "      <td>6800.0</td>\n",
              "      <td>9000.0</td>\n",
              "      <td>11400.0</td>\n",
              "      <td>38.0</td>\n",
              "      <td>52.0</td>\n",
              "      <td>40.5</td>\n",
              "      <td>37.5</td>\n",
              "      <td>-13.0</td>\n",
              "      <td>-7.0</td>\n",
              "      <td>-4.0</td>\n",
              "      <td>-4.0</td>\n",
              "      <td>-4.0</td>\n",
              "      <td>-2.0</td>\n",
              "      <td>4</td>\n",
              "      <td>0.08</td>\n",
              "      <td>-68</td>\n",
              "      <td>-0.88</td>\n",
              "      <td>-64</td>\n",
              "      <td>...</td>\n",
              "      <td>33</td>\n",
              "      <td>37</td>\n",
              "      <td>36</td>\n",
              "      <td>27</td>\n",
              "      <td>34</td>\n",
              "      <td>41</td>\n",
              "      <td>200</td>\n",
              "      <td>700</td>\n",
              "      <td>500</td>\n",
              "      <td>5</td>\n",
              "      <td>0</td>\n",
              "      <td>5</td>\n",
              "      <td>0</td>\n",
              "      <td>-2800</td>\n",
              "      <td>-1500</td>\n",
              "      <td>90</td>\n",
              "      <td>6690</td>\n",
              "      <td>440</td>\n",
              "      <td>-12</td>\n",
              "      <td>-5.0</td>\n",
              "      <td>-10.5</td>\n",
              "      <td>-11.5</td>\n",
              "      <td>-8.5</td>\n",
              "      <td>-11.0</td>\n",
              "      <td>-11.5</td>\n",
              "      <td>-7.5</td>\n",
              "      <td>-2.0</td>\n",
              "      <td>-1.0</td>\n",
              "      <td>-4.0</td>\n",
              "      <td>-1.5</td>\n",
              "      <td>-1.0</td>\n",
              "      <td>-3.5</td>\n",
              "      <td>-0.5</td>\n",
              "      <td>-1.0</td>\n",
              "      <td>0.0</td>\n",
              "      <td>0.0</td>\n",
              "      <td>0.0</td>\n",
              "      <td>2.9</td>\n",
              "      <td>5.4</td>\n",
              "      <td>2019-01-02</td>\n",
              "    </tr>\n",
              "    <tr>\n",
              "      <th>2</th>\n",
              "      <td>9603</td>\n",
              "      <td>11:02:16</td>\n",
              "      <td>11:19:46</td>\n",
              "      <td>00:17:30</td>\n",
              "      <td>02/01/2019</td>\n",
              "      <td>3872.5</td>\n",
              "      <td>3858.0</td>\n",
              "      <td>0.0</td>\n",
              "      <td>14.5</td>\n",
              "      <td>2</td>\n",
              "      <td>-14.5</td>\n",
              "      <td>120</td>\n",
              "      <td>140</td>\n",
              "      <td>57600</td>\n",
              "      <td>-2400</td>\n",
              "      <td>-15.5</td>\n",
              "      <td>24</td>\n",
              "      <td>470.0</td>\n",
              "      <td>460.0</td>\n",
              "      <td>460.0</td>\n",
              "      <td>460.0</td>\n",
              "      <td>1160.0</td>\n",
              "      <td>6800.0</td>\n",
              "      <td>9000.0</td>\n",
              "      <td>11400.0</td>\n",
              "      <td>78.0</td>\n",
              "      <td>52.0</td>\n",
              "      <td>40.5</td>\n",
              "      <td>37.5</td>\n",
              "      <td>-16.0</td>\n",
              "      <td>-8.0</td>\n",
              "      <td>-5.0</td>\n",
              "      <td>-5.0</td>\n",
              "      <td>-4.0</td>\n",
              "      <td>-1.0</td>\n",
              "      <td>-54</td>\n",
              "      <td>-0.82</td>\n",
              "      <td>-70</td>\n",
              "      <td>-0.92</td>\n",
              "      <td>-68</td>\n",
              "      <td>...</td>\n",
              "      <td>19</td>\n",
              "      <td>38</td>\n",
              "      <td>29</td>\n",
              "      <td>25</td>\n",
              "      <td>34</td>\n",
              "      <td>36</td>\n",
              "      <td>200</td>\n",
              "      <td>200</td>\n",
              "      <td>1000</td>\n",
              "      <td>15</td>\n",
              "      <td>5</td>\n",
              "      <td>0</td>\n",
              "      <td>0</td>\n",
              "      <td>-400</td>\n",
              "      <td>-5500</td>\n",
              "      <td>20</td>\n",
              "      <td>110</td>\n",
              "      <td>19650</td>\n",
              "      <td>-14</td>\n",
              "      <td>-5.5</td>\n",
              "      <td>-11.5</td>\n",
              "      <td>-14.5</td>\n",
              "      <td>-9.5</td>\n",
              "      <td>-12.5</td>\n",
              "      <td>-14.5</td>\n",
              "      <td>-8.5</td>\n",
              "      <td>-2.5</td>\n",
              "      <td>0.5</td>\n",
              "      <td>-4.5</td>\n",
              "      <td>-2.0</td>\n",
              "      <td>0.5</td>\n",
              "      <td>-4.0</td>\n",
              "      <td>-1.0</td>\n",
              "      <td>-2.5</td>\n",
              "      <td>0.0</td>\n",
              "      <td>0.0</td>\n",
              "      <td>0.0</td>\n",
              "      <td>2.0</td>\n",
              "      <td>5.4</td>\n",
              "      <td>2019-01-02</td>\n",
              "    </tr>\n",
              "    <tr>\n",
              "      <th>3</th>\n",
              "      <td>9604</td>\n",
              "      <td>11:03:18</td>\n",
              "      <td>11:19:46</td>\n",
              "      <td>00:16:28</td>\n",
              "      <td>02/01/2019</td>\n",
              "      <td>3872.0</td>\n",
              "      <td>3858.0</td>\n",
              "      <td>0.0</td>\n",
              "      <td>14.0</td>\n",
              "      <td>2</td>\n",
              "      <td>-14.0</td>\n",
              "      <td>125</td>\n",
              "      <td>140</td>\n",
              "      <td>57600</td>\n",
              "      <td>-2400</td>\n",
              "      <td>-16.0</td>\n",
              "      <td>24</td>\n",
              "      <td>480.0</td>\n",
              "      <td>460.0</td>\n",
              "      <td>460.0</td>\n",
              "      <td>460.0</td>\n",
              "      <td>1720.0</td>\n",
              "      <td>6800.0</td>\n",
              "      <td>9000.0</td>\n",
              "      <td>11400.0</td>\n",
              "      <td>116.0</td>\n",
              "      <td>52.0</td>\n",
              "      <td>40.5</td>\n",
              "      <td>37.5</td>\n",
              "      <td>-16.0</td>\n",
              "      <td>-8.0</td>\n",
              "      <td>-5.0</td>\n",
              "      <td>-1.0</td>\n",
              "      <td>-1.0</td>\n",
              "      <td>-1.0</td>\n",
              "      <td>-64</td>\n",
              "      <td>-0.94</td>\n",
              "      <td>-68</td>\n",
              "      <td>-0.90</td>\n",
              "      <td>-68</td>\n",
              "      <td>...</td>\n",
              "      <td>18</td>\n",
              "      <td>33</td>\n",
              "      <td>28</td>\n",
              "      <td>26</td>\n",
              "      <td>31</td>\n",
              "      <td>35</td>\n",
              "      <td>-100</td>\n",
              "      <td>100</td>\n",
              "      <td>1000</td>\n",
              "      <td>0</td>\n",
              "      <td>5</td>\n",
              "      <td>0</td>\n",
              "      <td>-800</td>\n",
              "      <td>0</td>\n",
              "      <td>-5500</td>\n",
              "      <td>170</td>\n",
              "      <td>20</td>\n",
              "      <td>19650</td>\n",
              "      <td>-14</td>\n",
              "      <td>-4.5</td>\n",
              "      <td>-12.5</td>\n",
              "      <td>-15.0</td>\n",
              "      <td>-9.5</td>\n",
              "      <td>-13.0</td>\n",
              "      <td>-15.0</td>\n",
              "      <td>-9.5</td>\n",
              "      <td>-1.5</td>\n",
              "      <td>0.5</td>\n",
              "      <td>-5.0</td>\n",
              "      <td>-1.0</td>\n",
              "      <td>0.5</td>\n",
              "      <td>-5.0</td>\n",
              "      <td>-0.5</td>\n",
              "      <td>-2.5</td>\n",
              "      <td>0.0</td>\n",
              "      <td>0.0</td>\n",
              "      <td>0.0</td>\n",
              "      <td>1.8</td>\n",
              "      <td>5.4</td>\n",
              "      <td>2019-01-02</td>\n",
              "    </tr>\n",
              "    <tr>\n",
              "      <th>4</th>\n",
              "      <td>9605</td>\n",
              "      <td>11:04:39</td>\n",
              "      <td>11:19:46</td>\n",
              "      <td>00:15:07</td>\n",
              "      <td>02/01/2019</td>\n",
              "      <td>3872.0</td>\n",
              "      <td>3858.0</td>\n",
              "      <td>0.0</td>\n",
              "      <td>14.0</td>\n",
              "      <td>2</td>\n",
              "      <td>-14.0</td>\n",
              "      <td>125</td>\n",
              "      <td>140</td>\n",
              "      <td>60800</td>\n",
              "      <td>-2400</td>\n",
              "      <td>-16.0</td>\n",
              "      <td>24</td>\n",
              "      <td>480.0</td>\n",
              "      <td>460.0</td>\n",
              "      <td>460.0</td>\n",
              "      <td>460.0</td>\n",
              "      <td>680.0</td>\n",
              "      <td>6800.0</td>\n",
              "      <td>9000.0</td>\n",
              "      <td>11400.0</td>\n",
              "      <td>36.0</td>\n",
              "      <td>52.0</td>\n",
              "      <td>40.5</td>\n",
              "      <td>37.5</td>\n",
              "      <td>-16.0</td>\n",
              "      <td>-8.0</td>\n",
              "      <td>-5.0</td>\n",
              "      <td>-1.0</td>\n",
              "      <td>-1.0</td>\n",
              "      <td>-1.0</td>\n",
              "      <td>-64</td>\n",
              "      <td>-0.96</td>\n",
              "      <td>-66</td>\n",
              "      <td>-0.88</td>\n",
              "      <td>-68</td>\n",
              "      <td>...</td>\n",
              "      <td>21</td>\n",
              "      <td>37</td>\n",
              "      <td>29</td>\n",
              "      <td>23</td>\n",
              "      <td>38</td>\n",
              "      <td>36</td>\n",
              "      <td>0</td>\n",
              "      <td>100</td>\n",
              "      <td>1000</td>\n",
              "      <td>5</td>\n",
              "      <td>5</td>\n",
              "      <td>0</td>\n",
              "      <td>0</td>\n",
              "      <td>0</td>\n",
              "      <td>-5500</td>\n",
              "      <td>20</td>\n",
              "      <td>20</td>\n",
              "      <td>19650</td>\n",
              "      <td>-14</td>\n",
              "      <td>-3.5</td>\n",
              "      <td>-12.5</td>\n",
              "      <td>-15.0</td>\n",
              "      <td>-8.5</td>\n",
              "      <td>-12.5</td>\n",
              "      <td>-15.0</td>\n",
              "      <td>-10.5</td>\n",
              "      <td>-1.5</td>\n",
              "      <td>0.5</td>\n",
              "      <td>-5.5</td>\n",
              "      <td>-1.5</td>\n",
              "      <td>0.5</td>\n",
              "      <td>-5.0</td>\n",
              "      <td>0.0</td>\n",
              "      <td>-2.5</td>\n",
              "      <td>0.0</td>\n",
              "      <td>0.0</td>\n",
              "      <td>0.0</td>\n",
              "      <td>1.6</td>\n",
              "      <td>5.4</td>\n",
              "      <td>2019-01-02</td>\n",
              "    </tr>\n",
              "  </tbody>\n",
              "</table>\n",
              "<p>5 rows × 91 columns</p>\n",
              "</div>"
            ],
            "text/plain": [
              "   CodOp Hora Entrada Hora Saida  ... Item 76 Item 77  DataFormatada\n",
              "0   9601     11:00:14   11:14:14  ...     2.9     5.4     2019-01-02\n",
              "1   9602     11:01:15   11:14:29  ...     2.9     5.4     2019-01-02\n",
              "2   9603     11:02:16   11:19:46  ...     2.0     5.4     2019-01-02\n",
              "3   9604     11:03:18   11:19:46  ...     1.8     5.4     2019-01-02\n",
              "4   9605     11:04:39   11:19:46  ...     1.6     5.4     2019-01-02\n",
              "\n",
              "[5 rows x 91 columns]"
            ]
          },
          "metadata": {
            "tags": []
          },
          "execution_count": 3
        }
      ]
    },
    {
      "cell_type": "code",
      "metadata": {
        "id": "S8Ulqsg1vUIn",
        "colab_type": "code",
        "colab": {
          "base_uri": "https://localhost:8080/",
          "height": 34
        },
        "outputId": "ddf4f266-0f08-4f0c-899f-baf7ffd86e93"
      },
      "source": [
        "historic.shape"
      ],
      "execution_count": 4,
      "outputs": [
        {
          "output_type": "execute_result",
          "data": {
            "text/plain": [
              "(39068, 91)"
            ]
          },
          "metadata": {
            "tags": []
          },
          "execution_count": 4
        }
      ]
    },
    {
      "cell_type": "code",
      "metadata": {
        "id": "cyvwWMZMury4",
        "colab_type": "code",
        "colab": {}
      },
      "source": [
        "#reduz o número de linhas do arquivo de forma a evitar que sejam horários consecutivos (deixa um registro a cada 10 lidos)\n",
        "#faz do último para o primeiro para não ter falha no índice após uma remoção\n",
        "quantos = 0\n",
        "remover = []\n",
        "for i in range(len(historic) - 1, 0, -1):\n",
        "  quantos += 1\n",
        "  if quantos == 10:\n",
        "    quantos = 0\n",
        "  else:\n",
        "    remover.append(i)\n",
        "#remove todas as linhas com base no array    \n",
        "historic.drop(remover, axis = 0, inplace=True)  "
      ],
      "execution_count": 5,
      "outputs": []
    },
    {
      "cell_type": "code",
      "metadata": {
        "id": "q_-ufmtUv6xQ",
        "colab_type": "code",
        "colab": {
          "base_uri": "https://localhost:8080/",
          "height": 170
        },
        "outputId": "844ef1ca-1ea1-46d4-d1bf-2c36f9c81a58"
      },
      "source": [
        "print(historic.shape)\n",
        "print(historic.head())"
      ],
      "execution_count": 6,
      "outputs": [
        {
          "output_type": "stream",
          "text": [
            "(3907, 91)\n",
            "    CodOp Hora Entrada Hora Saida  ... Item 76 Item 77  DataFormatada\n",
            "0    9601     11:00:14   11:14:14  ...     2.9     5.4     2019-01-02\n",
            "8    9609     11:08:59   11:19:46  ...     1.7     5.7     2019-01-02\n",
            "18   9619     11:19:29   11:48:22  ...     2.6     6.9     2019-01-02\n",
            "28   9629     11:30:00   13:27:31  ...     2.5     7.4     2019-01-02\n",
            "38   9639     11:40:54   13:25:53  ...     1.7     6.0     2019-01-02\n",
            "\n",
            "[5 rows x 91 columns]\n"
          ],
          "name": "stdout"
        }
      ]
    },
    {
      "cell_type": "code",
      "metadata": {
        "id": "Y0NU0d09etBP",
        "colab_type": "code",
        "colab": {}
      },
      "source": [
        "#separa um mês em cada  dataframe e faz todas as operações de preparação do daframe criado\n",
        "variables = locals()\n",
        "for i in range(1,13):\n",
        "  mes = str(i).zfill(2)\n",
        "  variables[\"mes{0}\".format(mes)] = historic[historic['DataFormatada'].dt.month == i]\n",
        "  #separa o target e o código da operação\n",
        "  variables[\"target{0}\".format(mes)] = variables[\"mes{0}\".format(mes)][['CodOp', 'Resultado']].copy()\n",
        "  #indica o campo CodOp como índice nos 2 dataframes (para conferência futura)\n",
        "  variables[\"mes{0}\".format(mes)] = variables[\"mes{0}\".format(mes)].set_index('CodOp')\n",
        "  variables[\"target{0}\".format(mes)] = variables[\"target{0}\".format(mes)].set_index('CodOp')\n",
        "  #apaga o campo target do dataframe original e outros campos já definidos como não necessários\n",
        "  variables[\"mes{0}\".format(mes)] = variables[\"mes{0}\".format(mes)].drop(['Resultado', 'Hora Entrada', 'Hora Saida',\n",
        "                                                                          'Duração', 'Data', 'Pentrada', 'Psaida', 'Ganhos',\n",
        "                                                                          'Perdas', 'Saldo Trade', 'K entra', 'K Saida', 'DataFormatada'], axis=1)\n",
        "  #apaga variáveis que tem histograma similar\n",
        "  #5, 6, 7 = 8\n",
        "  #32 = 34\n",
        "  #36 = 38\n",
        "  #48 = 49\n",
        "  variables[\"mes{0}\".format(mes)] = variables[\"mes{0}\".format(mes)].drop(['Item 5', 'Item 6', 'Item 7',\n",
        "                                                                          'Item 34', 'Item 36', 'Item 48'], axis=1)"
      ],
      "execution_count": 7,
      "outputs": []
    },
    {
      "cell_type": "markdown",
      "metadata": {
        "id": "I8F3MP9kEwiM",
        "colab_type": "text"
      },
      "source": [
        "# Criando um arquivo separado com base no mês para teste"
      ]
    },
    {
      "cell_type": "code",
      "metadata": {
        "id": "viwaY_ZVcXyl",
        "colab_type": "code",
        "colab": {}
      },
      "source": [
        "#escolhas dos meses para tratar\n",
        "mesesTreino = ['01', '02', '03', '04', '05', '06', '07', '08', '09', '10', '11', '12'] #train\n",
        "mesValidacao = '12' #test"
      ],
      "execution_count": 8,
      "outputs": []
    },
    {
      "cell_type": "code",
      "metadata": {
        "id": "U267JxQ7co9i",
        "colab_type": "code",
        "colab": {
          "base_uri": "https://localhost:8080/",
          "height": 85
        },
        "outputId": "a0f4a2ac-4bf2-4516-8c43-17acb27ba46e"
      },
      "source": [
        "#prepara os datasets de acordo com os meses informados\n",
        "variables = locals()\n",
        "X_train = variables[\"mes{}\".format(mesesTreino[0])].copy()\n",
        "for i in range(1, len(mesesTreino)):\n",
        "  X_train = X_train.append(variables[\"mes{}\".format(mesesTreino[i])])\n",
        "print(X_train.shape)\n",
        "\n",
        "X_test = variables[\"mes{}\".format(mesValidacao)].copy()\n",
        "print(X_test.shape)\n",
        "\n",
        "#e também dos objetivos para validação\n",
        "y_train = variables[\"target{}\".format(mesesTreino[0])].copy()\n",
        "for i in range(1, len(mesesTreino)):\n",
        "  y_train = y_train.append(variables[\"target{}\".format(mesesTreino[i])])\n",
        "print(y_train.shape)\n",
        "\n",
        "y_test = variables[\"target{}\".format(mesValidacao)].copy()\n",
        "print(y_test.shape)\n",
        "#converte em array\n",
        "y_test = y_test.values.ravel()"
      ],
      "execution_count": 9,
      "outputs": [
        {
          "output_type": "stream",
          "text": [
            "(3907, 71)\n",
            "(296, 71)\n",
            "(3907, 1)\n",
            "(296, 1)\n"
          ],
          "name": "stdout"
        }
      ]
    },
    {
      "cell_type": "code",
      "metadata": {
        "id": "AeMzyN0suj7y",
        "colab_type": "code",
        "colab": {}
      },
      "source": [
        "#reduz os arquivos"
      ],
      "execution_count": 10,
      "outputs": []
    },
    {
      "cell_type": "markdown",
      "metadata": {
        "id": "6tirV7EfFNGL",
        "colab_type": "text"
      },
      "source": [
        "# Modelagem"
      ]
    },
    {
      "cell_type": "code",
      "metadata": {
        "id": "ckOdL07AgUaJ",
        "colab_type": "code",
        "colab": {}
      },
      "source": [
        "#definição de parâmetros para todos os classificadores\n",
        "estimadores = 200\n",
        "quantidadeValidacaoCruzada = 30"
      ],
      "execution_count": 11,
      "outputs": []
    },
    {
      "cell_type": "code",
      "metadata": {
        "id": "l--Hx-lwho53",
        "colab_type": "code",
        "colab": {}
      },
      "source": [
        "#define a apresentação dos resultados das modelagens\n",
        "def mostraResultado(y_test, valoresPrevistos):\n",
        "  #lista quantidade de acertos\n",
        "  contaOk = 0\n",
        "  contaNao = 0\n",
        "  contaDesconsiderados = 0\n",
        "  for i in range(0, len(y_test)):\n",
        "    if int(valoresPrevistos[i]) == 1  and y_test[i] == 1:\n",
        "      contaOk += 1\n",
        "    elif int(valoresPrevistos[i]) == 1  and y_test[i] == 2:\n",
        "      contaNao += 1\n",
        "    else:\n",
        "      contaDesconsiderados += 1\n",
        "\n",
        "  print(\"Quantidade de resultados OK: {}\\nQuantidade de resultados Não: {}\".format(contaOk, contaNao))\n",
        "  print(\"Percentual de acertos: {:.1f}%\".format(contaOk/(contaOk+contaNao)*100))\n",
        "  print(\"Quantidade de resultados desconsiderados: {}\".format(contaDesconsiderados))"
      ],
      "execution_count": 12,
      "outputs": []
    },
    {
      "cell_type": "code",
      "metadata": {
        "id": "j7mrS5_SFP4T",
        "colab_type": "code",
        "colab": {}
      },
      "source": [
        "#faz a função para gerar modelo 1\n",
        "def rfc_test(X_train, y_train, n_estimators, cv):\n",
        "  np.random.seed(1)\n",
        "  rfc = RandomForestClassifier(n_estimators=n_estimators, random_state=0, n_jobs=-1, criterion='entropy', verbose=0)\n",
        "  cv_scores = cross_val_score(rfc, X_train, y_train, scoring='roc_auc', cv=cv, n_jobs=-1)\n",
        "  print('Média dos {} testes: '.format(cv), cv_scores.mean())\n",
        "  return rfc"
      ],
      "execution_count": 13,
      "outputs": []
    },
    {
      "cell_type": "code",
      "metadata": {
        "id": "3nQtPnTAFYPD",
        "colab_type": "code",
        "colab": {
          "base_uri": "https://localhost:8080/",
          "height": 34
        },
        "outputId": "a66a0bb9-9fe4-4df9-a6a9-bf440b7b82cf"
      },
      "source": [
        "#gera o modelo\n",
        "model = rfc_test(X_train, y_train, cv=quantidadeValidacaoCruzada, n_estimators=estimadores)"
      ],
      "execution_count": 14,
      "outputs": [
        {
          "output_type": "stream",
          "text": [
            "Média dos 30 testes:  0.460004195199719\n"
          ],
          "name": "stdout"
        }
      ]
    },
    {
      "cell_type": "code",
      "metadata": {
        "id": "QQS0wMb6IJ8g",
        "colab_type": "code",
        "colab": {
          "base_uri": "https://localhost:8080/",
          "height": 153
        },
        "outputId": "bea055f6-d6b7-4cd8-ea13-434437a9f3a3"
      },
      "source": [
        "#fit modelo\n",
        "model.fit(X_train, y_train.values.ravel())"
      ],
      "execution_count": 15,
      "outputs": [
        {
          "output_type": "execute_result",
          "data": {
            "text/plain": [
              "RandomForestClassifier(bootstrap=True, ccp_alpha=0.0, class_weight=None,\n",
              "                       criterion='entropy', max_depth=None, max_features='auto',\n",
              "                       max_leaf_nodes=None, max_samples=None,\n",
              "                       min_impurity_decrease=0.0, min_impurity_split=None,\n",
              "                       min_samples_leaf=1, min_samples_split=2,\n",
              "                       min_weight_fraction_leaf=0.0, n_estimators=200,\n",
              "                       n_jobs=-1, oob_score=False, random_state=0, verbose=0,\n",
              "                       warm_start=False)"
            ]
          },
          "metadata": {
            "tags": []
          },
          "execution_count": 15
        }
      ]
    },
    {
      "cell_type": "code",
      "metadata": {
        "id": "8fMmigf-IoCu",
        "colab_type": "code",
        "colab": {
          "base_uri": "https://localhost:8080/",
          "height": 85
        },
        "outputId": "e0f357bc-4325-4e4f-d760-c99e36cb9185"
      },
      "source": [
        "#faz predição com dados de validacao\n",
        "valoresPrevistos = model.predict(X_test)\n",
        "#resultado = 1 ou 2\n",
        "mostraResultado(y_test, valoresPrevistos)"
      ],
      "execution_count": 16,
      "outputs": [
        {
          "output_type": "stream",
          "text": [
            "Quantidade de resultados OK: 109\n",
            "Quantidade de resultados Não: 0\n",
            "Percentual de acertos: 100.0%\n",
            "Quantidade de resultados desconsiderados: 187\n"
          ],
          "name": "stdout"
        }
      ]
    },
    {
      "cell_type": "code",
      "metadata": {
        "id": "e4WJodpdTnQ1",
        "colab_type": "code",
        "colab": {
          "base_uri": "https://localhost:8080/",
          "height": 312
        },
        "outputId": "8b191eb5-abfa-4407-f251-3ca3838f4ff8"
      },
      "source": [
        "#gera uma matriz de confusão\n",
        "cm = confusion_matrix(y_test, valoresPrevistos)\n",
        "x_axis_labels = [1, 2]\n",
        "y_axis_labels = [1, 2]\n",
        "sns.heatmap(cm, annot=True, cmap='Blues', fmt='g', xticklabels=x_axis_labels, yticklabels=y_axis_labels)\n",
        "plt.title('Matriz de Confusão')\n",
        "plt.ylabel('Real')\n",
        "plt.xlabel('Previsão')\n"
      ],
      "execution_count": 17,
      "outputs": [
        {
          "output_type": "execute_result",
          "data": {
            "text/plain": [
              "Text(0.5, 15.0, 'Previsão')"
            ]
          },
          "metadata": {
            "tags": []
          },
          "execution_count": 17
        },
        {
          "output_type": "display_data",
          "data": {
            "image/png": "[encoded data removed]",
            "text/plain": [
              "<Figure size 432x288 with 2 Axes>"
            ]
          },
          "metadata": {
            "tags": [],
            "needs_background": "light"
          }
        }
      ]
    },
    {
      "cell_type": "code",
      "metadata": {
        "id": "Vbqqko1YdZoF",
        "colab_type": "code",
        "colab": {}
      },
      "source": [
        "#faz a função para gerar modelo 2\n",
        "def abc_test(X_train, y_train, n_estimators, cv):\n",
        "  np.random.seed(1)\n",
        "  abc = AdaBoostClassifier(random_state=2, n_estimators=n_estimators, algorithm='SAMME') \n",
        "  cv_scores = cross_val_score(abc, X_train, y_train, scoring='roc_auc', cv=cv, n_jobs=-1)\n",
        "  print('Média dos {} testes: '.format(cv), cv_scores.mean())\n",
        "  return abc"
      ],
      "execution_count": 18,
      "outputs": []
    },
    {
      "cell_type": "code",
      "metadata": {
        "id": "XHVF2FDWdnmc",
        "colab_type": "code",
        "colab": {
          "base_uri": "https://localhost:8080/",
          "height": 34
        },
        "outputId": "6a129a6b-c0f1-4a84-fe5c-ce08c2b81fe3"
      },
      "source": [
        "#gera o modelo\n",
        "model = abc_test(X_train, y_train, cv=quantidadeValidacaoCruzada, n_estimators=estimadores)"
      ],
      "execution_count": 19,
      "outputs": [
        {
          "output_type": "stream",
          "text": [
            "Média dos 30 testes:  0.5055238644433326\n"
          ],
          "name": "stdout"
        }
      ]
    },
    {
      "cell_type": "code",
      "metadata": {
        "id": "kOUzr8ZYd5XU",
        "colab_type": "code",
        "colab": {
          "base_uri": "https://localhost:8080/",
          "height": 51
        },
        "outputId": "ade2cef8-c392-45bd-dede-f9006d86ac96"
      },
      "source": [
        "#fit modelo\n",
        "model.fit(X_train, y_train.values.ravel())"
      ],
      "execution_count": 20,
      "outputs": [
        {
          "output_type": "execute_result",
          "data": {
            "text/plain": [
              "AdaBoostClassifier(algorithm='SAMME', base_estimator=None, learning_rate=1.0,\n",
              "                   n_estimators=200, random_state=2)"
            ]
          },
          "metadata": {
            "tags": []
          },
          "execution_count": 20
        }
      ]
    },
    {
      "cell_type": "code",
      "metadata": {
        "id": "p7-mwpJ6d9jr",
        "colab_type": "code",
        "colab": {
          "base_uri": "https://localhost:8080/",
          "height": 85
        },
        "outputId": "d403c1a6-8cfb-4585-a537-af7621b97697"
      },
      "source": [
        "#faz predição com dados de validacao\n",
        "valoresPrevistos = model.predict(X_test)\n",
        "#resultado = 1 ou 2\n",
        "mostraResultado(y_test, valoresPrevistos)"
      ],
      "execution_count": 21,
      "outputs": [
        {
          "output_type": "stream",
          "text": [
            "Quantidade de resultados OK: 49\n",
            "Quantidade de resultados Não: 74\n",
            "Percentual de acertos: 39.8%\n",
            "Quantidade de resultados desconsiderados: 173\n"
          ],
          "name": "stdout"
        }
      ]
    },
    {
      "cell_type": "code",
      "metadata": {
        "id": "nalXWmkAeDqz",
        "colab_type": "code",
        "colab": {}
      },
      "source": [
        "#faz a função para gerar modelo 3\n",
        "def gbc_test(X_train, y_train, n_estimators, cv):\n",
        "  np.random.seed(1)\n",
        "  gbc = GradientBoostingClassifier(random_state=2, n_estimators=n_estimators) \n",
        "  cv_scores = cross_val_score(gbc, X_train, y_train, scoring='roc_auc', cv=cv, n_jobs=-1)\n",
        "  print('Média dos {} testes: '.format(cv), cv_scores.mean())\n",
        "  return gbc"
      ],
      "execution_count": 22,
      "outputs": []
    },
    {
      "cell_type": "code",
      "metadata": {
        "id": "kDktlVtOeQWN",
        "colab_type": "code",
        "colab": {
          "base_uri": "https://localhost:8080/",
          "height": 34
        },
        "outputId": "e931050c-5c03-488b-898b-57dde05a16d1"
      },
      "source": [
        "#gera o modelo\n",
        "model = gbc_test(X_train, y_train, cv=quantidadeValidacaoCruzada, n_estimators=estimadores)"
      ],
      "execution_count": 23,
      "outputs": [
        {
          "output_type": "stream",
          "text": [
            "Média dos 30 testes:  0.4524915350508683\n"
          ],
          "name": "stdout"
        }
      ]
    },
    {
      "cell_type": "code",
      "metadata": {
        "id": "QWR8AvJYeTCD",
        "colab_type": "code",
        "colab": {
          "base_uri": "https://localhost:8080/",
          "height": 187
        },
        "outputId": "ccda85b0-b187-4aad-b662-2ed53bd56c85"
      },
      "source": [
        "#fit modelo\n",
        "model.fit(X_train, y_train.values.ravel())"
      ],
      "execution_count": 24,
      "outputs": [
        {
          "output_type": "execute_result",
          "data": {
            "text/plain": [
              "GradientBoostingClassifier(ccp_alpha=0.0, criterion='friedman_mse', init=None,\n",
              "                           learning_rate=0.1, loss='deviance', max_depth=3,\n",
              "                           max_features=None, max_leaf_nodes=None,\n",
              "                           min_impurity_decrease=0.0, min_impurity_split=None,\n",
              "                           min_samples_leaf=1, min_samples_split=2,\n",
              "                           min_weight_fraction_leaf=0.0, n_estimators=200,\n",
              "                           n_iter_no_change=None, presort='deprecated',\n",
              "                           random_state=2, subsample=1.0, tol=0.0001,\n",
              "                           validation_fraction=0.1, verbose=0,\n",
              "                           warm_start=False)"
            ]
          },
          "metadata": {
            "tags": []
          },
          "execution_count": 24
        }
      ]
    },
    {
      "cell_type": "code",
      "metadata": {
        "id": "1GJItMpgeVbT",
        "colab_type": "code",
        "colab": {
          "base_uri": "https://localhost:8080/",
          "height": 85
        },
        "outputId": "f614e65d-49d8-401c-9b95-04de0f650362"
      },
      "source": [
        "#faz predição com dados de validacao\n",
        "valoresPrevistos = model.predict(X_test)\n",
        "#resultado = 1 ou 2\n",
        "mostraResultado(y_test, valoresPrevistos)"
      ],
      "execution_count": 25,
      "outputs": [
        {
          "output_type": "stream",
          "text": [
            "Quantidade de resultados OK: 84\n",
            "Quantidade de resultados Não: 39\n",
            "Percentual de acertos: 68.3%\n",
            "Quantidade de resultados desconsiderados: 173\n"
          ],
          "name": "stdout"
        }
      ]
    },
    {
      "cell_type": "code",
      "metadata": {
        "id": "k1XpUnap6gKY",
        "colab_type": "code",
        "colab": {
          "base_uri": "https://localhost:8080/",
          "height": 578
        },
        "outputId": "b4f6dd28-b939-4353-bbc3-3e4356850aef"
      },
      "source": [
        "#faz a função para gerar modelo 4 com rede neural keras\n",
        "model = Sequential()\n",
        "model.add(Dense(77, activation='relu', input_dim=77))\n",
        "model.add(Dense(77, activation='relu'))\n",
        "model.add(Dense(units=1, activation='sigmoid'))\n",
        "model.summary()\n",
        "model.compile(optimizer='rmsprop', loss='binary_crossentropy',\n",
        "metrics=['accuracy'])\n",
        "\n",
        "history = model.fit(X_train, y_train, epochs=10, batch_size=500, validation_data=(X_test, y_test))\n"
      ],
      "execution_count": 26,
      "outputs": [
        {
          "output_type": "stream",
          "text": [
            "Model: \"sequential_1\"\n",
            "_________________________________________________________________\n",
            "Layer (type)                 Output Shape              Param #   \n",
            "=================================================================\n",
            "dense_1 (Dense)              (None, 77)                6006      \n",
            "_________________________________________________________________\n",
            "dense_2 (Dense)              (None, 77)                6006      \n",
            "_________________________________________________________________\n",
            "dense_3 (Dense)              (None, 1)                 78        \n",
            "=================================================================\n",
            "Total params: 12,090\n",
            "Trainable params: 12,090\n",
            "Non-trainable params: 0\n",
            "_________________________________________________________________\n"
          ],
          "name": "stdout"
        },
        {
          "output_type": "error",
          "ename": "ValueError",
          "evalue": "ignored",
          "traceback": [
            "\u001b[0;31m---------------------------------------------------------------------------\u001b[0m",
            "\u001b[0;31mValueError\u001b[0m                                Traceback (most recent call last)",
            "\u001b[0;32m<ipython-input-26-b55119ff08de>\u001b[0m in \u001b[0;36m<module>\u001b[0;34m()\u001b[0m\n\u001b[1;32m      8\u001b[0m metrics=['accuracy'])\n\u001b[1;32m      9\u001b[0m \u001b[0;34m\u001b[0m\u001b[0m\n\u001b[0;32m---> 10\u001b[0;31m \u001b[0mhistory\u001b[0m \u001b[0;34m=\u001b[0m \u001b[0mmodel\u001b[0m\u001b[0;34m.\u001b[0m\u001b[0mfit\u001b[0m\u001b[0;34m(\u001b[0m\u001b[0mX_train\u001b[0m\u001b[0;34m,\u001b[0m \u001b[0my_train\u001b[0m\u001b[0;34m,\u001b[0m \u001b[0mepochs\u001b[0m\u001b[0;34m=\u001b[0m\u001b[0;36m10\u001b[0m\u001b[0;34m,\u001b[0m \u001b[0mbatch_size\u001b[0m\u001b[0;34m=\u001b[0m\u001b[0;36m500\u001b[0m\u001b[0;34m,\u001b[0m \u001b[0mvalidation_data\u001b[0m\u001b[0;34m=\u001b[0m\u001b[0;34m(\u001b[0m\u001b[0mX_test\u001b[0m\u001b[0;34m,\u001b[0m \u001b[0my_test\u001b[0m\u001b[0;34m)\u001b[0m\u001b[0;34m)\u001b[0m\u001b[0;34m\u001b[0m\u001b[0;34m\u001b[0m\u001b[0m\n\u001b[0m",
            "\u001b[0;32m/usr/local/lib/python3.6/dist-packages/keras/engine/training.py\u001b[0m in \u001b[0;36mfit\u001b[0;34m(self, x, y, batch_size, epochs, verbose, callbacks, validation_split, validation_data, shuffle, class_weight, sample_weight, initial_epoch, steps_per_epoch, validation_steps, validation_freq, max_queue_size, workers, use_multiprocessing, **kwargs)\u001b[0m\n\u001b[1;32m   1152\u001b[0m             \u001b[0msample_weight\u001b[0m\u001b[0;34m=\u001b[0m\u001b[0msample_weight\u001b[0m\u001b[0;34m,\u001b[0m\u001b[0;34m\u001b[0m\u001b[0;34m\u001b[0m\u001b[0m\n\u001b[1;32m   1153\u001b[0m             \u001b[0mclass_weight\u001b[0m\u001b[0;34m=\u001b[0m\u001b[0mclass_weight\u001b[0m\u001b[0;34m,\u001b[0m\u001b[0;34m\u001b[0m\u001b[0;34m\u001b[0m\u001b[0m\n\u001b[0;32m-> 1154\u001b[0;31m             batch_size=batch_size)\n\u001b[0m\u001b[1;32m   1155\u001b[0m \u001b[0;34m\u001b[0m\u001b[0m\n\u001b[1;32m   1156\u001b[0m         \u001b[0;31m# Prepare validation data.\u001b[0m\u001b[0;34m\u001b[0m\u001b[0;34m\u001b[0m\u001b[0;34m\u001b[0m\u001b[0m\n",
            "\u001b[0;32m/usr/local/lib/python3.6/dist-packages/keras/engine/training.py\u001b[0m in \u001b[0;36m_standardize_user_data\u001b[0;34m(self, x, y, sample_weight, class_weight, check_array_lengths, batch_size)\u001b[0m\n\u001b[1;32m    577\u001b[0m             \u001b[0mfeed_input_shapes\u001b[0m\u001b[0;34m,\u001b[0m\u001b[0;34m\u001b[0m\u001b[0;34m\u001b[0m\u001b[0m\n\u001b[1;32m    578\u001b[0m             \u001b[0mcheck_batch_axis\u001b[0m\u001b[0;34m=\u001b[0m\u001b[0;32mFalse\u001b[0m\u001b[0;34m,\u001b[0m  \u001b[0;31m# Don't enforce the batch size.\u001b[0m\u001b[0;34m\u001b[0m\u001b[0;34m\u001b[0m\u001b[0m\n\u001b[0;32m--> 579\u001b[0;31m             exception_prefix='input')\n\u001b[0m\u001b[1;32m    580\u001b[0m \u001b[0;34m\u001b[0m\u001b[0m\n\u001b[1;32m    581\u001b[0m         \u001b[0;32mif\u001b[0m \u001b[0my\u001b[0m \u001b[0;32mis\u001b[0m \u001b[0;32mnot\u001b[0m \u001b[0;32mNone\u001b[0m\u001b[0;34m:\u001b[0m\u001b[0;34m\u001b[0m\u001b[0;34m\u001b[0m\u001b[0m\n",
            "\u001b[0;32m/usr/local/lib/python3.6/dist-packages/keras/engine/training_utils.py\u001b[0m in \u001b[0;36mstandardize_input_data\u001b[0;34m(data, names, shapes, check_batch_axis, exception_prefix)\u001b[0m\n\u001b[1;32m    143\u001b[0m                             \u001b[0;34m': expected '\u001b[0m \u001b[0;34m+\u001b[0m \u001b[0mnames\u001b[0m\u001b[0;34m[\u001b[0m\u001b[0mi\u001b[0m\u001b[0;34m]\u001b[0m \u001b[0;34m+\u001b[0m \u001b[0;34m' to have shape '\u001b[0m \u001b[0;34m+\u001b[0m\u001b[0;34m\u001b[0m\u001b[0;34m\u001b[0m\u001b[0m\n\u001b[1;32m    144\u001b[0m                             \u001b[0mstr\u001b[0m\u001b[0;34m(\u001b[0m\u001b[0mshape\u001b[0m\u001b[0;34m)\u001b[0m \u001b[0;34m+\u001b[0m \u001b[0;34m' but got array with shape '\u001b[0m \u001b[0;34m+\u001b[0m\u001b[0;34m\u001b[0m\u001b[0;34m\u001b[0m\u001b[0m\n\u001b[0;32m--> 145\u001b[0;31m                             str(data_shape))\n\u001b[0m\u001b[1;32m    146\u001b[0m     \u001b[0;32mreturn\u001b[0m \u001b[0mdata\u001b[0m\u001b[0;34m\u001b[0m\u001b[0;34m\u001b[0m\u001b[0m\n\u001b[1;32m    147\u001b[0m \u001b[0;34m\u001b[0m\u001b[0m\n",
            "\u001b[0;31mValueError\u001b[0m: Error when checking input: expected dense_1_input to have shape (77,) but got array with shape (71,)"
          ]
        }
      ]
    },
    {
      "cell_type": "code",
      "metadata": {
        "id": "_MHOuQGE7ltu",
        "colab_type": "code",
        "colab": {}
      },
      "source": [
        "epochs = range(0, len(history.history['accuracy']))\n",
        "plt.plot(epochs, history.history['accuracy'], 'bo', label='Training accuracy')\n",
        "plt.plot(epochs, history.history['val_accuracy'], 'b', label='Validation accuracy')\n",
        "plt.title('Training and validation accuracy')\n",
        "plt.xlabel('Epochs')\n",
        "plt.ylabel('Loss')\n",
        "plt.legend()\n",
        "plt.show()"
      ],
      "execution_count": null,
      "outputs": []
    },
    {
      "cell_type": "code",
      "metadata": {
        "id": "e7rsJjFB82Xc",
        "colab_type": "code",
        "colab": {}
      },
      "source": [
        "epochs = range(1, len(history.history['loss']) + 1)\n",
        "plt.plot(epochs, history.history['loss'], 'bo', label='Training loss')\n",
        "plt.plot(epochs, history.history['val_loss'], 'b', label='Validation loss')\n",
        "plt.title('Training and validation loss')\n",
        "plt.xlabel('Epochs')\n",
        "plt.ylabel('Loss')\n",
        "plt.legend()\n",
        "plt.show()"
      ],
      "execution_count": null,
      "outputs": []
    },
    {
      "cell_type": "code",
      "metadata": {
        "id": "LCZuGk6iDcih",
        "colab_type": "code",
        "colab": {}
      },
      "source": [
        "y_test"
      ],
      "execution_count": null,
      "outputs": []
    },
    {
      "cell_type": "code",
      "metadata": {
        "id": "uH6lV7Hy_MPf",
        "colab_type": "code",
        "colab": {}
      },
      "source": [
        "#faz predição com dados de validacao\n",
        "valoresPrevistos = model.predict_classes(X_test)\n",
        "#resultado = 1 ou 2\n",
        "mostraResultado(y_test, valoresPrevistos)"
      ],
      "execution_count": null,
      "outputs": []
    },
    {
      "cell_type": "code",
      "metadata": {
        "id": "LsAknLUmLQfM",
        "colab_type": "code",
        "colab": {}
      },
      "source": [
        "\n",
        "len(valoresPrevistos)"
      ],
      "execution_count": null,
      "outputs": []
    },
    {
      "cell_type": "code",
      "metadata": {
        "id": "MACb4X-XH8yg",
        "colab_type": "code",
        "colab": {}
      },
      "source": [
        "#este resultado precisa ser verificado, não está coerente\n",
        "valoresPrevistos"
      ],
      "execution_count": null,
      "outputs": []
    }
  ]
}