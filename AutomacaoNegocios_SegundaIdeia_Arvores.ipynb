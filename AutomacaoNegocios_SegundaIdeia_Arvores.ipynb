{
  "nbformat": 4,
  "nbformat_minor": 0,
  "metadata": {
    "colab": {
      "name": "AutomacaoNegocios-SegundaIdeia-Arvores",
      "provenance": [],
      "collapsed_sections": [],
      "toc_visible": true,
      "authorship_tag": "ABX9TyNmX4k0c19QuiTMxdrJ7dg2",
      "include_colab_link": true
    },
    "kernelspec": {
      "name": "python3",
      "display_name": "Python 3"
    }
  },
  "cells": [
    {
      "cell_type": "markdown",
      "metadata": {
        "id": "view-in-github",
        "colab_type": "text"
      },
      "source": [
        "<a href=\"https://colab.research.google.com/github/htsnet/automacao-de-negocios/blob/master/AutomacaoNegocios_SegundaIdeia_Arvores.ipynb\" target=\"_parent\"><img src=\"https://colab.research.google.com/assets/colab-badge.svg\" alt=\"Open In Colab\"/></a>"
      ]
    },
    {
      "cell_type": "markdown",
      "metadata": {
        "id": "0XIrIoBwb1NN",
        "colab_type": "text"
      },
      "source": [
        "#Uma avaliação da segunda ideia usando apenas árvores de decisão e similares"
      ]
    },
    {
      "cell_type": "markdown",
      "metadata": {
        "id": "esQEmXvQUDAO",
        "colab_type": "text"
      },
      "source": [
        "# Início: Importação as bibliotecas e Arquivo\n",
        "É preciso carregar um arquivo CSV com o padrão definido para execução do notebook"
      ]
    },
    {
      "cell_type": "markdown",
      "metadata": {
        "id": "4suMUgUaaI9S",
        "colab_type": "text"
      },
      "source": [
        "# Escolha do modo de divisão do arquivo"
      ]
    },
    {
      "cell_type": "code",
      "metadata": {
        "id": "zVmx-22qaND-",
        "colab_type": "code",
        "colab": {}
      },
      "source": [
        "# informe abaixo o modo de divisão do arquivo\n",
        "# 1 = normal via split 90% e 10 % aleatório\n",
        "# 2 = divisão fixa, 90% sendo as primeiras linhas e 10% sendo as últimas linhas\n",
        "divisao = 2"
      ],
      "execution_count": 1,
      "outputs": []
    },
    {
      "cell_type": "code",
      "metadata": {
        "id": "60MYovA_7su6",
        "colab_type": "code",
        "colab": {
          "base_uri": "https://localhost:8080/",
          "height": 71
        },
        "outputId": "2aa6e9db-5450-46d2-d4be-f35d2ffbdf96"
      },
      "source": [
        "import pandas as pd\n",
        "import numpy as np\n",
        "from sklearn.ensemble import ExtraTreesClassifier, RandomForestClassifier, GradientBoostingClassifier, AdaBoostClassifier\n",
        "from matplotlib import pyplot as plt\n",
        "from sklearn.metrics import roc_auc_score\n",
        "from sklearn.model_selection import train_test_split, cross_val_score, GridSearchCV\n",
        "from sklearn.ensemble import RandomForestRegressor\n",
        "from sklearn.metrics import mean_absolute_error\n",
        "from matplotlib.pyplot import figure\n",
        "import datetime\n",
        "import pickle\n",
        "from sklearn.metrics import confusion_matrix, accuracy_score, roc_curve, auc\n",
        "import seaborn as sns\n",
        "from numpy.random import seed"
      ],
      "execution_count": 2,
      "outputs": [
        {
          "output_type": "stream",
          "text": [
            "/usr/local/lib/python3.6/dist-packages/statsmodels/tools/_testing.py:19: FutureWarning: pandas.util.testing is deprecated. Use the functions in the public API at pandas.testing instead.\n",
            "  import pandas.util.testing as tm\n"
          ],
          "name": "stderr"
        }
      ]
    },
    {
      "cell_type": "code",
      "metadata": {
        "id": "Ke4l-RBtSvd3",
        "colab_type": "code",
        "colab": {}
      },
      "source": [
        "#define um SEED para o processo de forma a ter resultados comparáveis\n",
        "seed(1)"
      ],
      "execution_count": 3,
      "outputs": []
    },
    {
      "cell_type": "code",
      "metadata": {
        "id": "ve1_-Jygpiwk",
        "colab_type": "code",
        "colab": {}
      },
      "source": [
        "#informa os critérios deste modelo\n",
        "ganho = 1\n",
        "perda = 0"
      ],
      "execution_count": 4,
      "outputs": []
    },
    {
      "cell_type": "code",
      "metadata": {
        "id": "9lrF2JfV8RVC",
        "colab_type": "code",
        "colab": {}
      },
      "source": [
        "#carrega a tabela de dados\n",
        "#separador de campos = ;\n",
        "#ponto decimal = ,\n",
        "historic = pd.read_csv(\"/content/MAI - JUN - JUL - TTO v2 10h15 em diante - Final.csv\", sep=\";\", decimal=\",\")"
      ],
      "execution_count": 5,
      "outputs": []
    },
    {
      "cell_type": "code",
      "metadata": {
        "id": "S8Ulqsg1vUIn",
        "colab_type": "code",
        "colab": {
          "base_uri": "https://localhost:8080/",
          "height": 34
        },
        "outputId": "47905220-970e-4f65-d1be-adf9988d42b8"
      },
      "source": [
        "historic.shape"
      ],
      "execution_count": 6,
      "outputs": [
        {
          "output_type": "execute_result",
          "data": {
            "text/plain": [
              "(77393, 26)"
            ]
          },
          "metadata": {
            "tags": []
          },
          "execution_count": 6
        }
      ]
    },
    {
      "cell_type": "code",
      "metadata": {
        "id": "K7jo3PuHTRVm",
        "colab_type": "code",
        "colab": {
          "base_uri": "https://localhost:8080/",
          "height": 204
        },
        "outputId": "57c08dbc-4cb1-4568-cf38-ec9d80aabac1"
      },
      "source": [
        "#remove campos desnecessários\n",
        "tabelaAjustada = historic.drop(['Data', 'Hora'], axis=1)\n",
        "tabelaAjustada = tabelaAjustada.iloc[:,0:7]\n",
        "tabelaAjustada.head()"
      ],
      "execution_count": 7,
      "outputs": [
        {
          "output_type": "execute_result",
          "data": {
            "text/html": [
              "<div>\n",
              "<style scoped>\n",
              "    .dataframe tbody tr th:only-of-type {\n",
              "        vertical-align: middle;\n",
              "    }\n",
              "\n",
              "    .dataframe tbody tr th {\n",
              "        vertical-align: top;\n",
              "    }\n",
              "\n",
              "    .dataframe thead th {\n",
              "        text-align: right;\n",
              "    }\n",
              "</style>\n",
              "<table border=\"1\" class=\"dataframe\">\n",
              "  <thead>\n",
              "    <tr style=\"text-align: right;\">\n",
              "      <th></th>\n",
              "      <th>DOLAR</th>\n",
              "      <th>ÍNDICE</th>\n",
              "      <th>VALE3</th>\n",
              "      <th>ITUB4</th>\n",
              "      <th>CMIG4</th>\n",
              "      <th>LAME4</th>\n",
              "      <th>Dolar_Target_5m</th>\n",
              "    </tr>\n",
              "  </thead>\n",
              "  <tbody>\n",
              "    <tr>\n",
              "      <th>0</th>\n",
              "      <td>-47.36</td>\n",
              "      <td>88.39</td>\n",
              "      <td>18.28</td>\n",
              "      <td>-4.56</td>\n",
              "      <td>-10.93</td>\n",
              "      <td>0.0</td>\n",
              "      <td>1</td>\n",
              "    </tr>\n",
              "    <tr>\n",
              "      <th>1</th>\n",
              "      <td>-47.36</td>\n",
              "      <td>91.56</td>\n",
              "      <td>11.43</td>\n",
              "      <td>4.56</td>\n",
              "      <td>-10.93</td>\n",
              "      <td>0.0</td>\n",
              "      <td>1</td>\n",
              "    </tr>\n",
              "    <tr>\n",
              "      <th>2</th>\n",
              "      <td>-44.67</td>\n",
              "      <td>90.29</td>\n",
              "      <td>4.58</td>\n",
              "      <td>-4.56</td>\n",
              "      <td>0.00</td>\n",
              "      <td>0.0</td>\n",
              "      <td>1</td>\n",
              "    </tr>\n",
              "    <tr>\n",
              "      <th>3</th>\n",
              "      <td>-43.77</td>\n",
              "      <td>90.93</td>\n",
              "      <td>27.39</td>\n",
              "      <td>-32.04</td>\n",
              "      <td>-10.93</td>\n",
              "      <td>0.0</td>\n",
              "      <td>1</td>\n",
              "    </tr>\n",
              "    <tr>\n",
              "      <th>4</th>\n",
              "      <td>-43.77</td>\n",
              "      <td>87.75</td>\n",
              "      <td>29.67</td>\n",
              "      <td>-22.86</td>\n",
              "      <td>0.00</td>\n",
              "      <td>0.0</td>\n",
              "      <td>1</td>\n",
              "    </tr>\n",
              "  </tbody>\n",
              "</table>\n",
              "</div>"
            ],
            "text/plain": [
              "   DOLAR  ÍNDICE  VALE3  ITUB4  CMIG4  LAME4  Dolar_Target_5m\n",
              "0 -47.36   88.39  18.28  -4.56 -10.93    0.0                1\n",
              "1 -47.36   91.56  11.43   4.56 -10.93    0.0                1\n",
              "2 -44.67   90.29   4.58  -4.56   0.00    0.0                1\n",
              "3 -43.77   90.93  27.39 -32.04 -10.93    0.0                1\n",
              "4 -43.77   87.75  29.67 -22.86   0.00    0.0                1"
            ]
          },
          "metadata": {
            "tags": []
          },
          "execution_count": 7
        }
      ]
    },
    {
      "cell_type": "markdown",
      "metadata": {
        "id": "I8F3MP9kEwiM",
        "colab_type": "text"
      },
      "source": [
        "# Criando um arquivo para treino e outro para teste"
      ]
    },
    {
      "cell_type": "code",
      "metadata": {
        "id": "viwaY_ZVcXyl",
        "colab_type": "code",
        "colab": {
          "base_uri": "https://localhost:8080/",
          "height": 476
        },
        "outputId": "8acd0301-5b46-40ac-b607-267e0e9d2ffc"
      },
      "source": [
        "#separa as features do target\n",
        "X = tabelaAjustada.iloc[:,0:6]\n",
        "y = tabelaAjustada.iloc[:,6:]\n",
        "print(X.describe, y.describe)"
      ],
      "execution_count": 8,
      "outputs": [
        {
          "output_type": "stream",
          "text": [
            "<bound method NDFrame.describe of        DOLAR  ÍNDICE  VALE3   ITUB4   CMIG4   LAME4\n",
            "0     -47.36   88.39  18.28   -4.56  -10.93    0.00\n",
            "1     -47.36   91.56  11.43    4.56  -10.93    0.00\n",
            "2     -44.67   90.29   4.58   -4.56    0.00    0.00\n",
            "3     -43.77   90.93  27.39  -32.04  -10.93    0.00\n",
            "4     -43.77   87.75  29.67  -22.86    0.00    0.00\n",
            "...      ...     ...    ...     ...     ...     ...\n",
            "77388  66.97 -233.89 -60.93 -340.36 -149.13 -310.85\n",
            "77389  71.72 -233.89 -55.96 -332.72 -182.88 -307.83\n",
            "77390  70.77 -233.89 -64.24 -332.72 -182.88 -307.83\n",
            "77391  67.92 -233.89 -54.30 -332.72 -182.88 -292.74\n",
            "77392  71.72 -233.89 -65.90 -328.90 -182.88 -292.74\n",
            "\n",
            "[77393 rows x 6 columns]> <bound method NDFrame.describe of        Dolar_Target_5m\n",
            "0                    1\n",
            "1                    1\n",
            "2                    1\n",
            "3                    1\n",
            "4                    1\n",
            "...                ...\n",
            "77388                1\n",
            "77389                1\n",
            "77390                1\n",
            "77391                1\n",
            "77392                1\n",
            "\n",
            "[77393 rows x 1 columns]>\n"
          ],
          "name": "stdout"
        }
      ]
    },
    {
      "cell_type": "code",
      "metadata": {
        "id": "U267JxQ7co9i",
        "colab_type": "code",
        "colab": {
          "base_uri": "https://localhost:8080/",
          "height": 51
        },
        "outputId": "42a28639-5e02-408e-a1a3-16161346568b"
      },
      "source": [
        "#### Decide o formato de divisão do arquivo original\n",
        "#### Faça a escolha no início do script\n",
        "divisao = 2\n",
        "if divisao == 1:\n",
        "  # Separando uma parte para treino (90%) e outra para validação (10%)\n",
        "  X_train, X_test, y_train, y_test = train_test_split(X, y, test_size = 0.1, random_state=9)\n",
        "else:\n",
        "  corte = int(len(X)*0.9)\n",
        "  #os primeiros 90% para treino\n",
        "  X_train = X.iloc[:corte].copy()\n",
        "  y_train = y.iloc[:corte].copy()\n",
        "  #os últimos 10% dos registros para validação\n",
        "  X_test = X.iloc[corte:].copy()\n",
        "  y_test = y.iloc[corte:].copy()\n",
        "\n",
        "\n",
        "print('Qtde de treino: {}'.format(len(X_train)))\n",
        "print('Qtde de validação: {}'.format(len(y_test)))\n"
      ],
      "execution_count": 18,
      "outputs": [
        {
          "output_type": "stream",
          "text": [
            "Qtde de treino: 69653\n",
            "Qtde de validação: 7740\n"
          ],
          "name": "stdout"
        }
      ]
    },
    {
      "cell_type": "markdown",
      "metadata": {
        "id": "6tirV7EfFNGL",
        "colab_type": "text"
      },
      "source": [
        "# Modelagem"
      ]
    },
    {
      "cell_type": "code",
      "metadata": {
        "id": "ckOdL07AgUaJ",
        "colab_type": "code",
        "colab": {}
      },
      "source": [
        "#definição de parâmetros para todos os classificadores\n",
        "estimadores = 200\n",
        "quantidadeValidacaoCruzada = 30"
      ],
      "execution_count": 19,
      "outputs": []
    },
    {
      "cell_type": "code",
      "metadata": {
        "id": "l--Hx-lwho53",
        "colab_type": "code",
        "colab": {}
      },
      "source": [
        "#define a apresentação dos resultados das modelagens\n",
        "def mostraResultado(y_test, valoresPrevistos):\n",
        "  #lista quantidade de acertos\n",
        "  contaOk = 0\n",
        "  contaNao = 0\n",
        "  contaDesconsiderados = 0\n",
        "  for i in range(0, len(y_test)):\n",
        "    if valoresPrevistos[i] == ganho  and y_test[i] == ganho:\n",
        "      contaOk += 1\n",
        "    elif valoresPrevistos[i] == ganho  and y_test[i] == perda:\n",
        "      contaNao += 1\n",
        "    else:\n",
        "      contaDesconsiderados += 1\n",
        "\n",
        "  print(\"Quantidade de resultados OK (1 = 1): {}\\nQuantidade de resultados Não (1 = 0): {}\".format(contaOk, contaNao))\n",
        "  print(\"Percentual de acertos: {:.1f}%\".format(contaOk/(contaOk+contaNao)*100))\n",
        "  print(\"Quantidade de resultados desconsiderados: {}\".format(contaDesconsiderados))"
      ],
      "execution_count": 20,
      "outputs": []
    },
    {
      "cell_type": "code",
      "metadata": {
        "id": "j7mrS5_SFP4T",
        "colab_type": "code",
        "colab": {}
      },
      "source": [
        "#faz a função para gerar modelo 1\n",
        "def rfc_test(X_train, y_train, n_estimators, cv):\n",
        "  np.random.seed(1)\n",
        "  rfc = RandomForestClassifier(n_estimators=n_estimators, random_state=0, n_jobs=-1, criterion='entropy', verbose=0)\n",
        "  cv_scores = cross_val_score(rfc, X_train, y_train, scoring='roc_auc', cv=cv, n_jobs=-1)\n",
        "  print('Média dos {} testes: '.format(cv), cv_scores.mean())\n",
        "  return rfc"
      ],
      "execution_count": 21,
      "outputs": []
    },
    {
      "cell_type": "code",
      "metadata": {
        "id": "3nQtPnTAFYPD",
        "colab_type": "code",
        "colab": {
          "base_uri": "https://localhost:8080/",
          "height": 34
        },
        "outputId": "95904a18-4f24-416d-f476-8528b82d9d05"
      },
      "source": [
        "#gera o modelo\n",
        "model = rfc_test(X_train, y_train, cv=quantidadeValidacaoCruzada, n_estimators=estimadores)"
      ],
      "execution_count": 22,
      "outputs": [
        {
          "output_type": "stream",
          "text": [
            "Média dos 30 testes:  0.37904019355409496\n"
          ],
          "name": "stdout"
        }
      ]
    },
    {
      "cell_type": "code",
      "metadata": {
        "id": "QQS0wMb6IJ8g",
        "colab_type": "code",
        "colab": {
          "base_uri": "https://localhost:8080/",
          "height": 153
        },
        "outputId": "33d1107a-c7b8-4ffc-8ef2-db4d45602ebf"
      },
      "source": [
        "#fit modelo\n",
        "model.fit(X_train, y_train.values.ravel())"
      ],
      "execution_count": 23,
      "outputs": [
        {
          "output_type": "execute_result",
          "data": {
            "text/plain": [
              "RandomForestClassifier(bootstrap=True, ccp_alpha=0.0, class_weight=None,\n",
              "                       criterion='entropy', max_depth=None, max_features='auto',\n",
              "                       max_leaf_nodes=None, max_samples=None,\n",
              "                       min_impurity_decrease=0.0, min_impurity_split=None,\n",
              "                       min_samples_leaf=1, min_samples_split=2,\n",
              "                       min_weight_fraction_leaf=0.0, n_estimators=200,\n",
              "                       n_jobs=-1, oob_score=False, random_state=0, verbose=0,\n",
              "                       warm_start=False)"
            ]
          },
          "metadata": {
            "tags": []
          },
          "execution_count": 23
        }
      ]
    },
    {
      "cell_type": "code",
      "metadata": {
        "id": "WKrsha_3vmKB",
        "colab_type": "code",
        "colab": {}
      },
      "source": [
        "#salva o modelo para uso posterior em outro notebook em produção\n",
        "arquivo_modelo = 'modeloSI_RF.pkl'\n",
        "pickle.dump(model, open(arquivo_modelo, 'wb'))"
      ],
      "execution_count": 24,
      "outputs": []
    },
    {
      "cell_type": "code",
      "metadata": {
        "id": "_IRbEq5cn8zE",
        "colab_type": "code",
        "colab": {}
      },
      "source": [
        "#faz predição com dados de validacao\n",
        "valoresPrevistos = model.predict(X_test)"
      ],
      "execution_count": 25,
      "outputs": []
    },
    {
      "cell_type": "code",
      "metadata": {
        "id": "YejBNp3foOSq",
        "colab_type": "code",
        "colab": {
          "base_uri": "https://localhost:8080/",
          "height": 34
        },
        "outputId": "d868ed3c-ae7c-4631-f7c3-1284a2c7a522"
      },
      "source": [
        "y_test.values.ravel()\n"
      ],
      "execution_count": 26,
      "outputs": [
        {
          "output_type": "execute_result",
          "data": {
            "text/plain": [
              "array([1, 1, 0, ..., 1, 1, 1])"
            ]
          },
          "metadata": {
            "tags": []
          },
          "execution_count": 26
        }
      ]
    },
    {
      "cell_type": "code",
      "metadata": {
        "id": "TnP8FY6Gn-_K",
        "colab_type": "code",
        "colab": {
          "base_uri": "https://localhost:8080/",
          "height": 34
        },
        "outputId": "65c4a5a9-087d-4354-c0d9-a3429cd682a5"
      },
      "source": [
        "valoresPrevistos"
      ],
      "execution_count": 27,
      "outputs": [
        {
          "output_type": "execute_result",
          "data": {
            "text/plain": [
              "array([1, 1, 0, ..., 0, 0, 0])"
            ]
          },
          "metadata": {
            "tags": []
          },
          "execution_count": 27
        }
      ]
    },
    {
      "cell_type": "code",
      "metadata": {
        "id": "8fMmigf-IoCu",
        "colab_type": "code",
        "colab": {
          "base_uri": "https://localhost:8080/",
          "height": 85
        },
        "outputId": "53d8aea6-fbce-48ce-ecff-55be456d4755"
      },
      "source": [
        "#resultado = 0 ou 1\n",
        "mostraResultado(y_test.values.ravel(), valoresPrevistos)"
      ],
      "execution_count": 28,
      "outputs": [
        {
          "output_type": "stream",
          "text": [
            "Quantidade de resultados OK (1 = 1): 1099\n",
            "Quantidade de resultados Não (1 = 0): 1131\n",
            "Percentual de acertos: 49.3%\n",
            "Quantidade de resultados desconsiderados: 5510\n"
          ],
          "name": "stdout"
        }
      ]
    },
    {
      "cell_type": "code",
      "metadata": {
        "id": "e4WJodpdTnQ1",
        "colab_type": "code",
        "colab": {
          "base_uri": "https://localhost:8080/",
          "height": 312
        },
        "outputId": "ef8b55f7-fd81-49e6-af80-4496de3e4265"
      },
      "source": [
        "#gera uma matriz de confusão\n",
        "cm = confusion_matrix(y_test, valoresPrevistos)\n",
        "x_axis_labels = [0, 1]\n",
        "y_axis_labels = [0, 1]\n",
        "sns.heatmap(cm, annot=True, cmap='Blues', fmt='g', xticklabels=x_axis_labels, yticklabels=y_axis_labels)\n",
        "plt.title('Matriz de Confusão')\n",
        "plt.ylabel('Real')\n",
        "plt.xlabel('Previsão')\n"
      ],
      "execution_count": 29,
      "outputs": [
        {
          "output_type": "execute_result",
          "data": {
            "text/plain": [
              "Text(0.5, 15.0, 'Previsão')"
            ]
          },
          "metadata": {
            "tags": []
          },
          "execution_count": 29
        },
        {
          "output_type": "display_data",
          "data": {
            "image/png": "[encoded data removed]",
            "text/plain": [
              "<Figure size 432x288 with 2 Axes>"
            ]
          },
          "metadata": {
            "tags": [],
            "needs_background": "light"
          }
        }
      ]
    },
    {
      "cell_type": "code",
      "metadata": {
        "id": "Vbqqko1YdZoF",
        "colab_type": "code",
        "colab": {}
      },
      "source": [
        "#faz a função para gerar modelo 2\n",
        "def abc_test(X_train, y_train, n_estimators, cv):\n",
        "  np.random.seed(1)\n",
        "  abc = AdaBoostClassifier(random_state=2, n_estimators=n_estimators, algorithm='SAMME') \n",
        "  cv_scores = cross_val_score(abc, X_train, y_train, scoring='roc_auc', cv=cv, n_jobs=-1)\n",
        "  print('Média dos {} testes: '.format(cv), cv_scores.mean())\n",
        "  return abc"
      ],
      "execution_count": 30,
      "outputs": []
    },
    {
      "cell_type": "code",
      "metadata": {
        "id": "XHVF2FDWdnmc",
        "colab_type": "code",
        "colab": {
          "base_uri": "https://localhost:8080/",
          "height": 34
        },
        "outputId": "7ebad2aa-115b-4d40-dcc9-7468bbe35be8"
      },
      "source": [
        "#gera o modelo\n",
        "model = abc_test(X_train, y_train, cv=quantidadeValidacaoCruzada, n_estimators=estimadores)"
      ],
      "execution_count": 31,
      "outputs": [
        {
          "output_type": "stream",
          "text": [
            "Média dos 30 testes:  0.43749935099709686\n"
          ],
          "name": "stdout"
        }
      ]
    },
    {
      "cell_type": "code",
      "metadata": {
        "id": "kOUzr8ZYd5XU",
        "colab_type": "code",
        "colab": {
          "base_uri": "https://localhost:8080/",
          "height": 51
        },
        "outputId": "20247a93-f09b-4cfa-ae86-144a46e6f9e8"
      },
      "source": [
        "#fit modelo\n",
        "model.fit(X_train, y_train.values.ravel())"
      ],
      "execution_count": 32,
      "outputs": [
        {
          "output_type": "execute_result",
          "data": {
            "text/plain": [
              "AdaBoostClassifier(algorithm='SAMME', base_estimator=None, learning_rate=1.0,\n",
              "                   n_estimators=200, random_state=2)"
            ]
          },
          "metadata": {
            "tags": []
          },
          "execution_count": 32
        }
      ]
    },
    {
      "cell_type": "code",
      "metadata": {
        "id": "2U0MVmCCv3Ns",
        "colab_type": "code",
        "colab": {}
      },
      "source": [
        "#salva o modelo para uso posterior em outro notebook em produção\n",
        "arquivo_modelo = 'modeloSI_AB.pkl'\n",
        "pickle.dump(model, open(arquivo_modelo, 'wb'))"
      ],
      "execution_count": 33,
      "outputs": []
    },
    {
      "cell_type": "code",
      "metadata": {
        "id": "p7-mwpJ6d9jr",
        "colab_type": "code",
        "colab": {
          "base_uri": "https://localhost:8080/",
          "height": 85
        },
        "outputId": "f01e6f4f-6d33-4cc1-e4c3-616761f97c7b"
      },
      "source": [
        "#faz predição com dados de validacao\n",
        "valoresPrevistos = model.predict(X_test)\n",
        "#resultado = 1 ou 2\n",
        "mostraResultado(y_test.values.ravel(), valoresPrevistos)"
      ],
      "execution_count": 34,
      "outputs": [
        {
          "output_type": "stream",
          "text": [
            "Quantidade de resultados OK (1 = 1): 990\n",
            "Quantidade de resultados Não (1 = 0): 901\n",
            "Percentual de acertos: 52.4%\n",
            "Quantidade de resultados desconsiderados: 5849\n"
          ],
          "name": "stdout"
        }
      ]
    },
    {
      "cell_type": "code",
      "metadata": {
        "id": "nalXWmkAeDqz",
        "colab_type": "code",
        "colab": {}
      },
      "source": [
        "#faz a função para gerar modelo 3\n",
        "def gbc_test(X_train, y_train, n_estimators, cv):\n",
        "  np.random.seed(1)\n",
        "  gbc = GradientBoostingClassifier(random_state=2, n_estimators=n_estimators) \n",
        "  cv_scores = cross_val_score(gbc, X_train, y_train, scoring='roc_auc', cv=cv, n_jobs=-1)\n",
        "  print('Média dos {} testes: '.format(cv), cv_scores.mean())\n",
        "  return gbc"
      ],
      "execution_count": 35,
      "outputs": []
    },
    {
      "cell_type": "code",
      "metadata": {
        "id": "kDktlVtOeQWN",
        "colab_type": "code",
        "colab": {
          "base_uri": "https://localhost:8080/",
          "height": 34
        },
        "outputId": "39e07f70-509b-4f28-a8ae-3d6e8cad7ff3"
      },
      "source": [
        "#gera o modelo\n",
        "model = gbc_test(X_train, y_train, cv=quantidadeValidacaoCruzada, n_estimators=estimadores)"
      ],
      "execution_count": 36,
      "outputs": [
        {
          "output_type": "stream",
          "text": [
            "Média dos 30 testes:  0.4233271431086732\n"
          ],
          "name": "stdout"
        }
      ]
    },
    {
      "cell_type": "code",
      "metadata": {
        "id": "QWR8AvJYeTCD",
        "colab_type": "code",
        "colab": {
          "base_uri": "https://localhost:8080/",
          "height": 187
        },
        "outputId": "ddff95ea-696d-4e3e-de8d-4389c4954e84"
      },
      "source": [
        "#fit modelo\n",
        "model.fit(X_train, y_train.values.ravel())"
      ],
      "execution_count": 37,
      "outputs": [
        {
          "output_type": "execute_result",
          "data": {
            "text/plain": [
              "GradientBoostingClassifier(ccp_alpha=0.0, criterion='friedman_mse', init=None,\n",
              "                           learning_rate=0.1, loss='deviance', max_depth=3,\n",
              "                           max_features=None, max_leaf_nodes=None,\n",
              "                           min_impurity_decrease=0.0, min_impurity_split=None,\n",
              "                           min_samples_leaf=1, min_samples_split=2,\n",
              "                           min_weight_fraction_leaf=0.0, n_estimators=200,\n",
              "                           n_iter_no_change=None, presort='deprecated',\n",
              "                           random_state=2, subsample=1.0, tol=0.0001,\n",
              "                           validation_fraction=0.1, verbose=0,\n",
              "                           warm_start=False)"
            ]
          },
          "metadata": {
            "tags": []
          },
          "execution_count": 37
        }
      ]
    },
    {
      "cell_type": "code",
      "metadata": {
        "id": "wgW5NrEav6V8",
        "colab_type": "code",
        "colab": {}
      },
      "source": [
        "#salva o modelo para uso posterior em outro notebook em produção\n",
        "arquivo_modelo = 'modeloSI_GB.pkl'\n",
        "pickle.dump(model, open(arquivo_modelo, 'wb'))"
      ],
      "execution_count": 38,
      "outputs": []
    },
    {
      "cell_type": "code",
      "metadata": {
        "id": "1GJItMpgeVbT",
        "colab_type": "code",
        "colab": {
          "base_uri": "https://localhost:8080/",
          "height": 85
        },
        "outputId": "8ec33291-dd57-42f8-c5d9-1b49724961dd"
      },
      "source": [
        "#faz predição com dados de validacao\n",
        "valoresPrevistos = model.predict(X_test)\n",
        "#resultado = 1 ou 2\n",
        "mostraResultado(y_test.values.ravel(), valoresPrevistos)"
      ],
      "execution_count": 39,
      "outputs": [
        {
          "output_type": "stream",
          "text": [
            "Quantidade de resultados OK (1 = 1): 1340\n",
            "Quantidade de resultados Não (1 = 0): 1330\n",
            "Percentual de acertos: 50.2%\n",
            "Quantidade de resultados desconsiderados: 5070\n"
          ],
          "name": "stdout"
        }
      ]
    }
  ]
}