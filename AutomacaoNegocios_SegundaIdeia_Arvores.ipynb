{
  "nbformat": 4,
  "nbformat_minor": 0,
  "metadata": {
    "colab": {
      "name": "AutomacaoNegocios-SegundaIdeia-Arvores",
      "provenance": [],
      "collapsed_sections": [],
      "authorship_tag": "ABX9TyNyzAd2HnV3UMWs42zKycew",
      "include_colab_link": true
    },
    "kernelspec": {
      "name": "python3",
      "display_name": "Python 3"
    }
  },
  "cells": [
    {
      "cell_type": "markdown",
      "metadata": {
        "id": "view-in-github",
        "colab_type": "text"
      },
      "source": [
        "<a href=\"https://colab.research.google.com/github/htsnet/automacao-de-negocios/blob/master/AutomacaoNegocios_SegundaIdeia_Arvores.ipynb\" target=\"_parent\"><img src=\"https://colab.research.google.com/assets/colab-badge.svg\" alt=\"Open In Colab\"/></a>"
      ]
    },
    {
      "cell_type": "markdown",
      "metadata": {
        "id": "0XIrIoBwb1NN",
        "colab_type": "text"
      },
      "source": [
        "#Uma avaliação da segunda ideia usando apenas árvores de decisão e similares"
      ]
    },
    {
      "cell_type": "markdown",
      "metadata": {
        "id": "esQEmXvQUDAO",
        "colab_type": "text"
      },
      "source": [
        "# Início: Importação as bibliotecas e Arquivo\n",
        "É preciso carregar um arquivo CSV com o padrão definido para execução do notebook"
      ]
    },
    {
      "cell_type": "code",
      "metadata": {
        "id": "60MYovA_7su6",
        "colab_type": "code",
        "colab": {
          "base_uri": "https://localhost:8080/",
          "height": 71
        },
        "outputId": "0f56aeb8-ba6b-4025-a325-041a9cb93338"
      },
      "source": [
        "import pandas as pd\n",
        "import numpy as np\n",
        "from sklearn.ensemble import ExtraTreesClassifier, RandomForestClassifier, GradientBoostingClassifier, AdaBoostClassifier\n",
        "from matplotlib import pyplot as plt\n",
        "from sklearn.metrics import roc_auc_score\n",
        "from sklearn.model_selection import train_test_split, cross_val_score, GridSearchCV\n",
        "from sklearn.ensemble import RandomForestRegressor\n",
        "from sklearn.metrics import mean_absolute_error\n",
        "from matplotlib.pyplot import figure\n",
        "import datetime\n",
        "import pickle\n",
        "from sklearn.metrics import confusion_matrix, accuracy_score, roc_curve, auc\n",
        "import seaborn as sns\n",
        "from numpy.random import seed"
      ],
      "execution_count": 1,
      "outputs": [
        {
          "output_type": "stream",
          "text": [
            "/usr/local/lib/python3.6/dist-packages/statsmodels/tools/_testing.py:19: FutureWarning: pandas.util.testing is deprecated. Use the functions in the public API at pandas.testing instead.\n",
            "  import pandas.util.testing as tm\n"
          ],
          "name": "stderr"
        }
      ]
    },
    {
      "cell_type": "code",
      "metadata": {
        "id": "Ke4l-RBtSvd3",
        "colab_type": "code",
        "colab": {}
      },
      "source": [
        "#define um SEED para o processo de forma a ter resultados comparáveis\n",
        "seed(1)"
      ],
      "execution_count": 2,
      "outputs": []
    },
    {
      "cell_type": "code",
      "metadata": {
        "id": "ve1_-Jygpiwk",
        "colab_type": "code",
        "colab": {}
      },
      "source": [
        "#informa os critérios deste modelo\n",
        "ganho = 1\n",
        "perda = 0"
      ],
      "execution_count": 3,
      "outputs": []
    },
    {
      "cell_type": "code",
      "metadata": {
        "id": "9lrF2JfV8RVC",
        "colab_type": "code",
        "colab": {}
      },
      "source": [
        "#carrega a tabela de dados\n",
        "#separador de campos = ;\n",
        "#ponto decimal = ,\n",
        "historic = pd.read_csv(\"/content/MAI - JUN - JUL - TTO v2 10h15 em diante - Final.csv\", sep=\";\", decimal=\",\")"
      ],
      "execution_count": 4,
      "outputs": []
    },
    {
      "cell_type": "code",
      "metadata": {
        "id": "S8Ulqsg1vUIn",
        "colab_type": "code",
        "colab": {
          "base_uri": "https://localhost:8080/",
          "height": 34
        },
        "outputId": "a16d9fb4-b905-4134-a57e-e8c5bbb348e1"
      },
      "source": [
        "historic.shape"
      ],
      "execution_count": 5,
      "outputs": [
        {
          "output_type": "execute_result",
          "data": {
            "text/plain": [
              "(77393, 26)"
            ]
          },
          "metadata": {
            "tags": []
          },
          "execution_count": 5
        }
      ]
    },
    {
      "cell_type": "code",
      "metadata": {
        "id": "K7jo3PuHTRVm",
        "colab_type": "code",
        "colab": {
          "base_uri": "https://localhost:8080/",
          "height": 204
        },
        "outputId": "93a724db-3a27-4325-8f08-cbcf507de38d"
      },
      "source": [
        "#remove campos desnecessários\n",
        "tabelaAjustada = historic.drop(['Data', 'Hora'], axis=1)\n",
        "tabelaAjustada = tabelaAjustada.iloc[:,0:7]\n",
        "tabelaAjustada.head()"
      ],
      "execution_count": 6,
      "outputs": [
        {
          "output_type": "execute_result",
          "data": {
            "text/html": [
              "<div>\n",
              "<style scoped>\n",
              "    .dataframe tbody tr th:only-of-type {\n",
              "        vertical-align: middle;\n",
              "    }\n",
              "\n",
              "    .dataframe tbody tr th {\n",
              "        vertical-align: top;\n",
              "    }\n",
              "\n",
              "    .dataframe thead th {\n",
              "        text-align: right;\n",
              "    }\n",
              "</style>\n",
              "<table border=\"1\" class=\"dataframe\">\n",
              "  <thead>\n",
              "    <tr style=\"text-align: right;\">\n",
              "      <th></th>\n",
              "      <th>DOLAR</th>\n",
              "      <th>ÍNDICE</th>\n",
              "      <th>VALE3</th>\n",
              "      <th>ITUB4</th>\n",
              "      <th>CMIG4</th>\n",
              "      <th>LAME4</th>\n",
              "      <th>Dolar_Target_5m</th>\n",
              "    </tr>\n",
              "  </thead>\n",
              "  <tbody>\n",
              "    <tr>\n",
              "      <th>0</th>\n",
              "      <td>-47.36</td>\n",
              "      <td>88.39</td>\n",
              "      <td>18.28</td>\n",
              "      <td>-4.56</td>\n",
              "      <td>-10.93</td>\n",
              "      <td>0.0</td>\n",
              "      <td>1</td>\n",
              "    </tr>\n",
              "    <tr>\n",
              "      <th>1</th>\n",
              "      <td>-47.36</td>\n",
              "      <td>91.56</td>\n",
              "      <td>11.43</td>\n",
              "      <td>4.56</td>\n",
              "      <td>-10.93</td>\n",
              "      <td>0.0</td>\n",
              "      <td>1</td>\n",
              "    </tr>\n",
              "    <tr>\n",
              "      <th>2</th>\n",
              "      <td>-44.67</td>\n",
              "      <td>90.29</td>\n",
              "      <td>4.58</td>\n",
              "      <td>-4.56</td>\n",
              "      <td>0.00</td>\n",
              "      <td>0.0</td>\n",
              "      <td>1</td>\n",
              "    </tr>\n",
              "    <tr>\n",
              "      <th>3</th>\n",
              "      <td>-43.77</td>\n",
              "      <td>90.93</td>\n",
              "      <td>27.39</td>\n",
              "      <td>-32.04</td>\n",
              "      <td>-10.93</td>\n",
              "      <td>0.0</td>\n",
              "      <td>1</td>\n",
              "    </tr>\n",
              "    <tr>\n",
              "      <th>4</th>\n",
              "      <td>-43.77</td>\n",
              "      <td>87.75</td>\n",
              "      <td>29.67</td>\n",
              "      <td>-22.86</td>\n",
              "      <td>0.00</td>\n",
              "      <td>0.0</td>\n",
              "      <td>1</td>\n",
              "    </tr>\n",
              "  </tbody>\n",
              "</table>\n",
              "</div>"
            ],
            "text/plain": [
              "   DOLAR  ÍNDICE  VALE3  ITUB4  CMIG4  LAME4  Dolar_Target_5m\n",
              "0 -47.36   88.39  18.28  -4.56 -10.93    0.0                1\n",
              "1 -47.36   91.56  11.43   4.56 -10.93    0.0                1\n",
              "2 -44.67   90.29   4.58  -4.56   0.00    0.0                1\n",
              "3 -43.77   90.93  27.39 -32.04 -10.93    0.0                1\n",
              "4 -43.77   87.75  29.67 -22.86   0.00    0.0                1"
            ]
          },
          "metadata": {
            "tags": []
          },
          "execution_count": 6
        }
      ]
    },
    {
      "cell_type": "markdown",
      "metadata": {
        "id": "I8F3MP9kEwiM",
        "colab_type": "text"
      },
      "source": [
        "# Criando um arquivo para treino e outro para teste"
      ]
    },
    {
      "cell_type": "code",
      "metadata": {
        "id": "viwaY_ZVcXyl",
        "colab_type": "code",
        "colab": {
          "base_uri": "https://localhost:8080/",
          "height": 476
        },
        "outputId": "29d5e0c0-efcf-48d1-8613-ef153d9953d0"
      },
      "source": [
        "#separa as features do target\n",
        "X = tabelaAjustada.iloc[:,0:6]\n",
        "y = tabelaAjustada.iloc[:,6:]\n",
        "print(X.describe, y.describe)"
      ],
      "execution_count": 7,
      "outputs": [
        {
          "output_type": "stream",
          "text": [
            "<bound method NDFrame.describe of        DOLAR  ÍNDICE  VALE3   ITUB4   CMIG4   LAME4\n",
            "0     -47.36   88.39  18.28   -4.56  -10.93    0.00\n",
            "1     -47.36   91.56  11.43    4.56  -10.93    0.00\n",
            "2     -44.67   90.29   4.58   -4.56    0.00    0.00\n",
            "3     -43.77   90.93  27.39  -32.04  -10.93    0.00\n",
            "4     -43.77   87.75  29.67  -22.86    0.00    0.00\n",
            "...      ...     ...    ...     ...     ...     ...\n",
            "77388  66.97 -233.89 -60.93 -340.36 -149.13 -310.85\n",
            "77389  71.72 -233.89 -55.96 -332.72 -182.88 -307.83\n",
            "77390  70.77 -233.89 -64.24 -332.72 -182.88 -307.83\n",
            "77391  67.92 -233.89 -54.30 -332.72 -182.88 -292.74\n",
            "77392  71.72 -233.89 -65.90 -328.90 -182.88 -292.74\n",
            "\n",
            "[77393 rows x 6 columns]> <bound method NDFrame.describe of        Dolar_Target_5m\n",
            "0                    1\n",
            "1                    1\n",
            "2                    1\n",
            "3                    1\n",
            "4                    1\n",
            "...                ...\n",
            "77388                1\n",
            "77389                1\n",
            "77390                1\n",
            "77391                1\n",
            "77392                1\n",
            "\n",
            "[77393 rows x 1 columns]>\n"
          ],
          "name": "stdout"
        }
      ]
    },
    {
      "cell_type": "code",
      "metadata": {
        "id": "U267JxQ7co9i",
        "colab_type": "code",
        "colab": {
          "base_uri": "https://localhost:8080/",
          "height": 51
        },
        "outputId": "1a6c1261-4144-4289-8573-a2aa00274912"
      },
      "source": [
        "# Separando uma parte para treino (90%) e outra para validação (10%)\n",
        "X_train, X_test, y_train, y_test = train_test_split(X, y, test_size = 0.1, random_state=9)\n",
        "print('Qtde de treino: {}'.format(len(X_train)))\n",
        "print('Qtde de validação: {}'.format(len(y_test)))"
      ],
      "execution_count": 8,
      "outputs": [
        {
          "output_type": "stream",
          "text": [
            "Qtde de treino: 69653\n",
            "Qtde de validação: 7740\n"
          ],
          "name": "stdout"
        }
      ]
    },
    {
      "cell_type": "markdown",
      "metadata": {
        "id": "6tirV7EfFNGL",
        "colab_type": "text"
      },
      "source": [
        "# Modelagem"
      ]
    },
    {
      "cell_type": "code",
      "metadata": {
        "id": "ckOdL07AgUaJ",
        "colab_type": "code",
        "colab": {}
      },
      "source": [
        "#definição de parâmetros para todos os classificadores\n",
        "estimadores = 200\n",
        "quantidadeValidacaoCruzada = 30"
      ],
      "execution_count": 9,
      "outputs": []
    },
    {
      "cell_type": "code",
      "metadata": {
        "id": "l--Hx-lwho53",
        "colab_type": "code",
        "colab": {}
      },
      "source": [
        "#define a apresentação dos resultados das modelagens\n",
        "def mostraResultado(y_test, valoresPrevistos):\n",
        "  #lista quantidade de acertos\n",
        "  contaOk = 0\n",
        "  contaNao = 0\n",
        "  contaDesconsiderados = 0\n",
        "  for i in range(0, len(y_test)):\n",
        "    if valoresPrevistos[i] == ganho  and y_test[i] == ganho:\n",
        "      contaOk += 1\n",
        "    elif valoresPrevistos[i] == ganho  and y_test[i] == perda:\n",
        "      contaNao += 1\n",
        "    else:\n",
        "      contaDesconsiderados += 1\n",
        "\n",
        "  print(\"Quantidade de resultados OK (1 = 1): {}\\nQuantidade de resultados Não (1 = 0): {}\".format(contaOk, contaNao))\n",
        "  print(\"Percentual de acertos: {:.1f}%\".format(contaOk/(contaOk+contaNao)*100))\n",
        "  print(\"Quantidade de resultados desconsiderados: {}\".format(contaDesconsiderados))"
      ],
      "execution_count": 10,
      "outputs": []
    },
    {
      "cell_type": "code",
      "metadata": {
        "id": "j7mrS5_SFP4T",
        "colab_type": "code",
        "colab": {}
      },
      "source": [
        "#faz a função para gerar modelo 1\n",
        "def rfc_test(X_train, y_train, n_estimators, cv):\n",
        "  np.random.seed(1)\n",
        "  rfc = RandomForestClassifier(n_estimators=n_estimators, random_state=0, n_jobs=-1, criterion='entropy', verbose=0)\n",
        "  cv_scores = cross_val_score(rfc, X_train, y_train, scoring='roc_auc', cv=cv, n_jobs=-1)\n",
        "  print('Média dos {} testes: '.format(cv), cv_scores.mean())\n",
        "  return rfc"
      ],
      "execution_count": 11,
      "outputs": []
    },
    {
      "cell_type": "code",
      "metadata": {
        "id": "3nQtPnTAFYPD",
        "colab_type": "code",
        "colab": {
          "base_uri": "https://localhost:8080/",
          "height": 34
        },
        "outputId": "3c15c733-03f7-4932-f8f8-529eda6d7be2"
      },
      "source": [
        "#gera o modelo\n",
        "model = rfc_test(X_train, y_train, cv=quantidadeValidacaoCruzada, n_estimators=estimadores)"
      ],
      "execution_count": 12,
      "outputs": [
        {
          "output_type": "stream",
          "text": [
            "Média dos 30 testes:  0.9278988092454632\n"
          ],
          "name": "stdout"
        }
      ]
    },
    {
      "cell_type": "code",
      "metadata": {
        "id": "QQS0wMb6IJ8g",
        "colab_type": "code",
        "colab": {
          "base_uri": "https://localhost:8080/",
          "height": 153
        },
        "outputId": "2c2edeff-cf18-4b99-df11-567f10ea4978"
      },
      "source": [
        "#fit modelo\n",
        "model.fit(X_train, y_train.values.ravel())"
      ],
      "execution_count": 13,
      "outputs": [
        {
          "output_type": "execute_result",
          "data": {
            "text/plain": [
              "RandomForestClassifier(bootstrap=True, ccp_alpha=0.0, class_weight=None,\n",
              "                       criterion='entropy', max_depth=None, max_features='auto',\n",
              "                       max_leaf_nodes=None, max_samples=None,\n",
              "                       min_impurity_decrease=0.0, min_impurity_split=None,\n",
              "                       min_samples_leaf=1, min_samples_split=2,\n",
              "                       min_weight_fraction_leaf=0.0, n_estimators=200,\n",
              "                       n_jobs=-1, oob_score=False, random_state=0, verbose=0,\n",
              "                       warm_start=False)"
            ]
          },
          "metadata": {
            "tags": []
          },
          "execution_count": 13
        }
      ]
    },
    {
      "cell_type": "code",
      "metadata": {
        "id": "WKrsha_3vmKB",
        "colab_type": "code",
        "colab": {}
      },
      "source": [
        "#salva o modelo para uso posterior em outro notebook em produção\n",
        "arquivo_modelo = 'modeloSI_RF.pkl'\n",
        "pickle.dump(model, open(arquivo_modelo, 'wb'))"
      ],
      "execution_count": 14,
      "outputs": []
    },
    {
      "cell_type": "code",
      "metadata": {
        "id": "_IRbEq5cn8zE",
        "colab_type": "code",
        "colab": {}
      },
      "source": [
        "#faz predição com dados de validacao\n",
        "valoresPrevistos = model.predict(X_test)"
      ],
      "execution_count": 15,
      "outputs": []
    },
    {
      "cell_type": "code",
      "metadata": {
        "id": "YejBNp3foOSq",
        "colab_type": "code",
        "colab": {
          "base_uri": "https://localhost:8080/",
          "height": 34
        },
        "outputId": "5f8fe48d-809e-4086-c738-b69359baead9"
      },
      "source": [
        "y_test.values.ravel()\n"
      ],
      "execution_count": 16,
      "outputs": [
        {
          "output_type": "execute_result",
          "data": {
            "text/plain": [
              "array([0, 0, 0, ..., 1, 1, 0])"
            ]
          },
          "metadata": {
            "tags": []
          },
          "execution_count": 16
        }
      ]
    },
    {
      "cell_type": "code",
      "metadata": {
        "id": "TnP8FY6Gn-_K",
        "colab_type": "code",
        "colab": {
          "base_uri": "https://localhost:8080/",
          "height": 34
        },
        "outputId": "b185ed0f-37ca-42e6-d580-9485af2e56dd"
      },
      "source": [
        "valoresPrevistos"
      ],
      "execution_count": 17,
      "outputs": [
        {
          "output_type": "execute_result",
          "data": {
            "text/plain": [
              "array([0, 0, 0, ..., 1, 1, 0])"
            ]
          },
          "metadata": {
            "tags": []
          },
          "execution_count": 17
        }
      ]
    },
    {
      "cell_type": "code",
      "metadata": {
        "id": "8fMmigf-IoCu",
        "colab_type": "code",
        "colab": {
          "base_uri": "https://localhost:8080/",
          "height": 85
        },
        "outputId": "17d37ea3-2d6c-435a-cb74-3c3b3151ad62"
      },
      "source": [
        "#resultado = 0 ou 1\n",
        "mostraResultado(y_test.values.ravel(), valoresPrevistos)"
      ],
      "execution_count": 18,
      "outputs": [
        {
          "output_type": "stream",
          "text": [
            "Quantidade de resultados OK (1 = 1): 3280\n",
            "Quantidade de resultados Não (1 = 0): 544\n",
            "Percentual de acertos: 85.8%\n",
            "Quantidade de resultados desconsiderados: 3916\n"
          ],
          "name": "stdout"
        }
      ]
    },
    {
      "cell_type": "code",
      "metadata": {
        "id": "e4WJodpdTnQ1",
        "colab_type": "code",
        "colab": {
          "base_uri": "https://localhost:8080/",
          "height": 312
        },
        "outputId": "566ca6d4-b4e0-4904-91ba-fb6adf9c9d66"
      },
      "source": [
        "#gera uma matriz de confusão\n",
        "cm = confusion_matrix(y_test, valoresPrevistos)\n",
        "x_axis_labels = [0, 1]\n",
        "y_axis_labels = [0, 1]\n",
        "sns.heatmap(cm, annot=True, cmap='Blues', fmt='g', xticklabels=x_axis_labels, yticklabels=y_axis_labels)\n",
        "plt.title('Matriz de Confusão')\n",
        "plt.ylabel('Real')\n",
        "plt.xlabel('Previsão')\n"
      ],
      "execution_count": 19,
      "outputs": [
        {
          "output_type": "execute_result",
          "data": {
            "text/plain": [
              "Text(0.5, 15.0, 'Previsão')"
            ]
          },
          "metadata": {
            "tags": []
          },
          "execution_count": 19
        },
        {
          "output_type": "display_data",
          "data": {
            "image/png": "[encoded data removed]",
            "text/plain": [
              "<Figure size 432x288 with 2 Axes>"
            ]
          },
          "metadata": {
            "tags": [],
            "needs_background": "light"
          }
        }
      ]
    },
    {
      "cell_type": "code",
      "metadata": {
        "id": "Vbqqko1YdZoF",
        "colab_type": "code",
        "colab": {}
      },
      "source": [
        "#faz a função para gerar modelo 2\n",
        "def abc_test(X_train, y_train, n_estimators, cv):\n",
        "  np.random.seed(1)\n",
        "  abc = AdaBoostClassifier(random_state=2, n_estimators=n_estimators, algorithm='SAMME') \n",
        "  cv_scores = cross_val_score(abc, X_train, y_train, scoring='roc_auc', cv=cv, n_jobs=-1)\n",
        "  print('Média dos {} testes: '.format(cv), cv_scores.mean())\n",
        "  return abc"
      ],
      "execution_count": 20,
      "outputs": []
    },
    {
      "cell_type": "code",
      "metadata": {
        "id": "XHVF2FDWdnmc",
        "colab_type": "code",
        "colab": {
          "base_uri": "https://localhost:8080/",
          "height": 34
        },
        "outputId": "896d1b6f-2bb5-4d0c-fc5d-bd05b7ca3311"
      },
      "source": [
        "#gera o modelo\n",
        "model = abc_test(X_train, y_train, cv=quantidadeValidacaoCruzada, n_estimators=estimadores)"
      ],
      "execution_count": 21,
      "outputs": [
        {
          "output_type": "stream",
          "text": [
            "Média dos 30 testes:  0.5501251426566837\n"
          ],
          "name": "stdout"
        }
      ]
    },
    {
      "cell_type": "code",
      "metadata": {
        "id": "kOUzr8ZYd5XU",
        "colab_type": "code",
        "colab": {
          "base_uri": "https://localhost:8080/",
          "height": 51
        },
        "outputId": "bb1d47d9-4729-4a56-c207-19a002a7b4b3"
      },
      "source": [
        "#fit modelo\n",
        "model.fit(X_train, y_train.values.ravel())"
      ],
      "execution_count": 22,
      "outputs": [
        {
          "output_type": "execute_result",
          "data": {
            "text/plain": [
              "AdaBoostClassifier(algorithm='SAMME', base_estimator=None, learning_rate=1.0,\n",
              "                   n_estimators=200, random_state=2)"
            ]
          },
          "metadata": {
            "tags": []
          },
          "execution_count": 22
        }
      ]
    },
    {
      "cell_type": "code",
      "metadata": {
        "id": "2U0MVmCCv3Ns",
        "colab_type": "code",
        "colab": {}
      },
      "source": [
        "#salva o modelo para uso posterior em outro notebook em produção\n",
        "arquivo_modelo = 'modeloSI_AB.pkl'\n",
        "pickle.dump(model, open(arquivo_modelo, 'wb'))"
      ],
      "execution_count": 23,
      "outputs": []
    },
    {
      "cell_type": "code",
      "metadata": {
        "id": "p7-mwpJ6d9jr",
        "colab_type": "code",
        "colab": {
          "base_uri": "https://localhost:8080/",
          "height": 85
        },
        "outputId": "c686aaa7-1d9d-45f6-96cf-4231de7321e0"
      },
      "source": [
        "#faz predição com dados de validacao\n",
        "valoresPrevistos = model.predict(X_test)\n",
        "#resultado = 1 ou 2\n",
        "mostraResultado(y_test.values.ravel(), valoresPrevistos)"
      ],
      "execution_count": 24,
      "outputs": [
        {
          "output_type": "stream",
          "text": [
            "Quantidade de resultados OK (1 = 1): 1692\n",
            "Quantidade de resultados Não (1 = 0): 1466\n",
            "Percentual de acertos: 53.6%\n",
            "Quantidade de resultados desconsiderados: 4582\n"
          ],
          "name": "stdout"
        }
      ]
    },
    {
      "cell_type": "code",
      "metadata": {
        "id": "nalXWmkAeDqz",
        "colab_type": "code",
        "colab": {}
      },
      "source": [
        "#faz a função para gerar modelo 3\n",
        "def gbc_test(X_train, y_train, n_estimators, cv):\n",
        "  np.random.seed(1)\n",
        "  gbc = GradientBoostingClassifier(random_state=2, n_estimators=n_estimators) \n",
        "  cv_scores = cross_val_score(gbc, X_train, y_train, scoring='roc_auc', cv=cv, n_jobs=-1)\n",
        "  print('Média dos {} testes: '.format(cv), cv_scores.mean())\n",
        "  return gbc"
      ],
      "execution_count": 25,
      "outputs": []
    },
    {
      "cell_type": "code",
      "metadata": {
        "id": "kDktlVtOeQWN",
        "colab_type": "code",
        "colab": {
          "base_uri": "https://localhost:8080/",
          "height": 34
        },
        "outputId": "5ec0b4f9-b325-43d8-f1e8-77897f0332a0"
      },
      "source": [
        "#gera o modelo\n",
        "model = gbc_test(X_train, y_train, cv=quantidadeValidacaoCruzada, n_estimators=estimadores)"
      ],
      "execution_count": 26,
      "outputs": [
        {
          "output_type": "stream",
          "text": [
            "Média dos 30 testes:  0.6478771095849244\n"
          ],
          "name": "stdout"
        }
      ]
    },
    {
      "cell_type": "code",
      "metadata": {
        "id": "QWR8AvJYeTCD",
        "colab_type": "code",
        "colab": {
          "base_uri": "https://localhost:8080/",
          "height": 187
        },
        "outputId": "f533e7b7-116f-4280-f939-58e807fbd338"
      },
      "source": [
        "#fit modelo\n",
        "model.fit(X_train, y_train.values.ravel())"
      ],
      "execution_count": 27,
      "outputs": [
        {
          "output_type": "execute_result",
          "data": {
            "text/plain": [
              "GradientBoostingClassifier(ccp_alpha=0.0, criterion='friedman_mse', init=None,\n",
              "                           learning_rate=0.1, loss='deviance', max_depth=3,\n",
              "                           max_features=None, max_leaf_nodes=None,\n",
              "                           min_impurity_decrease=0.0, min_impurity_split=None,\n",
              "                           min_samples_leaf=1, min_samples_split=2,\n",
              "                           min_weight_fraction_leaf=0.0, n_estimators=200,\n",
              "                           n_iter_no_change=None, presort='deprecated',\n",
              "                           random_state=2, subsample=1.0, tol=0.0001,\n",
              "                           validation_fraction=0.1, verbose=0,\n",
              "                           warm_start=False)"
            ]
          },
          "metadata": {
            "tags": []
          },
          "execution_count": 27
        }
      ]
    },
    {
      "cell_type": "code",
      "metadata": {
        "id": "wgW5NrEav6V8",
        "colab_type": "code",
        "colab": {}
      },
      "source": [
        "#salva o modelo para uso posterior em outro notebook em produção\n",
        "arquivo_modelo = 'modeloSI_GB.pkl'\n",
        "pickle.dump(model, open(arquivo_modelo, 'wb'))"
      ],
      "execution_count": 28,
      "outputs": []
    },
    {
      "cell_type": "code",
      "metadata": {
        "id": "1GJItMpgeVbT",
        "colab_type": "code",
        "colab": {
          "base_uri": "https://localhost:8080/",
          "height": 85
        },
        "outputId": "25e7e3f8-06d8-4645-dee0-5f9f883da821"
      },
      "source": [
        "#faz predição com dados de validacao\n",
        "valoresPrevistos = model.predict(X_test)\n",
        "#resultado = 1 ou 2\n",
        "mostraResultado(y_test.values.ravel(), valoresPrevistos)"
      ],
      "execution_count": 29,
      "outputs": [
        {
          "output_type": "stream",
          "text": [
            "Quantidade de resultados OK (1 = 1): 2062\n",
            "Quantidade de resultados Não (1 = 0): 1344\n",
            "Percentual de acertos: 60.5%\n",
            "Quantidade de resultados desconsiderados: 4334\n"
          ],
          "name": "stdout"
        }
      ]
    }
  ]
}